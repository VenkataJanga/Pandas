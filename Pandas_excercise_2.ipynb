{
 "cells": [
  {
   "cell_type": "code",
   "execution_count": 9,
   "metadata": {},
   "outputs": [
    {
     "name": "stdout",
     "output_type": "stream",
     "text": [
      "  StudentName\n",
      "0        John\n",
      "1       Steve\n",
      "2       Sarah\n",
      "  StudentName  marks\n",
      "0        John     78\n",
      "1       Steve     89\n",
      "2       Sarah     99\n"
     ]
    }
   ],
   "source": [
    "## How to assign a new column in a Pandas DataFrame\n",
    "# load libraries\n",
    "import pandas as pd\n",
    "\n",
    "# Create empty dataframe\n",
    "df = pd.DataFrame()\n",
    " # Create a column\n",
    "df['StudentName'] = ['John', 'Steve', 'Sarah']\n",
    "# View dataframe\n",
    "print(df)\n",
    " # Assign a new column to df\n",
    "df = df.assign(marks =[78,89,99])\n",
    "print(df)"
   ]
  },
  {
   "cell_type": "code",
   "execution_count": 21,
   "metadata": {},
   "outputs": [
    {
     "name": "stdout",
     "output_type": "stream",
     "text": [
      "   score\n",
      "0    234\n",
      "1    345\n",
      "2    456\n",
      "3    567\n",
      "4    678\n",
      "5    789\n",
      "   score\n",
      "0  234.0\n",
      "1  345.0\n",
      "2  456.0\n",
      "3  567.0\n",
      "4  678.0\n",
      "5  789.0\n",
      "[[234.]\n",
      " [345.]\n",
      " [456.]\n",
      " [567.]\n",
      " [678.]\n",
      " [789.]]\n"
     ]
    }
   ],
   "source": [
    "# How to Normalise a Pandas DataFrame Column\n",
    "# load libraries\n",
    "import pandas as pd\n",
    "\n",
    "# Create an example dataframe with a column of unnormalized data\n",
    "data = {'score':[234,345,456,567,678,789]}\n",
    "\n",
    "df = pd.DataFrame(data)\n",
    "print(df)\n",
    "# Normalize The Column\n",
    "df1= pd.DataFrame(data, dtype = float)\n",
    "print(df1)\n",
    "x = df[['score']].values.astype(float)\n",
    "print(x)"
   ]
  },
  {
   "cell_type": "code",
   "execution_count": 35,
   "metadata": {},
   "outputs": [
    {
     "name": "stdout",
     "output_type": "stream",
     "text": [
      "   patient  obs  treatment   score\n",
      "0        1    1          0  strong\n",
      "1        1    2          1    weak\n",
      "2        1    3          0  normal\n",
      "3        2    1          1    weak\n",
      "4        2    2          0  strong\n",
      "    score\n",
      "0  strong\n",
      "1    weak\n",
      "2  normal\n",
      "3    weak\n",
      "4  strong\n",
      "   patient  obs  treatment  score\n",
      "0        1    1          0      1\n",
      "1        1    2          1      2\n",
      "2        1    3          0      0\n",
      "3        2    1          1      2\n",
      "4        2    2          0      1\n"
     ]
    }
   ],
   "source": [
    "# How to convert string categorical variables into numerical variables using Label Encoder\n",
    "from sklearn.preprocessing import LabelEncoder\n",
    "\n",
    "# Create dataframe\n",
    "raw_data = {'patient': [1, 1, 1, 2, 2],\n",
    "                'obs': [1, 2, 3, 1, 2],\n",
    "                'treatment': [0, 1, 0, 1, 0],\n",
    "                'score': ['strong', 'weak', 'normal', 'weak', 'strong']}\n",
    "#df = pd.DataFrame(raw_data)\n",
    "df = pd.DataFrame(raw_data,columns=['patient', 'obs', 'treatment', 'score'])\n",
    "print(df)\n",
    "columnsToEncode = list(df.select_dtypes(include=['category','object']))\n",
    "print(df[columnsToEncode])\n",
    "le = LabelEncoder()\n",
    "for feature in columnsToEncode:\n",
    "  try:\n",
    "      df[feature] = le.fit_transform(df[feature])\n",
    "  except:\n",
    "      print('Error encoding '+feature)\n",
    "print(df)"
   ]
  },
  {
   "cell_type": "code",
   "execution_count": 36,
   "metadata": {},
   "outputs": [
    {
     "data": {
      "text/html": [
       "<div>\n",
       "<style scoped>\n",
       "    .dataframe tbody tr th:only-of-type {\n",
       "        vertical-align: middle;\n",
       "    }\n",
       "\n",
       "    .dataframe tbody tr th {\n",
       "        vertical-align: top;\n",
       "    }\n",
       "\n",
       "    .dataframe thead th {\n",
       "        text-align: right;\n",
       "    }\n",
       "</style>\n",
       "<table border=\"1\" class=\"dataframe\">\n",
       "  <thead>\n",
       "    <tr style=\"text-align: right;\">\n",
       "      <th></th>\n",
       "      <th>first_name</th>\n",
       "      <th>last_name</th>\n",
       "      <th>age</th>\n",
       "      <th>preTestScore</th>\n",
       "      <th>postTestScore</th>\n",
       "    </tr>\n",
       "  </thead>\n",
       "  <tbody>\n",
       "    <tr>\n",
       "      <th>0</th>\n",
       "      <td>Jason</td>\n",
       "      <td>Miller</td>\n",
       "      <td>42</td>\n",
       "      <td>4</td>\n",
       "      <td>25</td>\n",
       "    </tr>\n",
       "    <tr>\n",
       "      <th>1</th>\n",
       "      <td>Jason</td>\n",
       "      <td>Miller</td>\n",
       "      <td>42</td>\n",
       "      <td>4</td>\n",
       "      <td>25</td>\n",
       "    </tr>\n",
       "    <tr>\n",
       "      <th>2</th>\n",
       "      <td>Jason</td>\n",
       "      <td>Miller</td>\n",
       "      <td>1111111</td>\n",
       "      <td>4</td>\n",
       "      <td>25</td>\n",
       "    </tr>\n",
       "    <tr>\n",
       "      <th>3</th>\n",
       "      <td>Tina</td>\n",
       "      <td>Ali</td>\n",
       "      <td>36</td>\n",
       "      <td>31</td>\n",
       "      <td>57</td>\n",
       "    </tr>\n",
       "    <tr>\n",
       "      <th>4</th>\n",
       "      <td>Jake</td>\n",
       "      <td>Milner</td>\n",
       "      <td>24</td>\n",
       "      <td>2</td>\n",
       "      <td>62</td>\n",
       "    </tr>\n",
       "    <tr>\n",
       "      <th>5</th>\n",
       "      <td>Amy</td>\n",
       "      <td>Cooze</td>\n",
       "      <td>73</td>\n",
       "      <td>3</td>\n",
       "      <td>70</td>\n",
       "    </tr>\n",
       "  </tbody>\n",
       "</table>\n",
       "</div>"
      ],
      "text/plain": [
       "  first_name last_name      age  preTestScore  postTestScore\n",
       "0      Jason    Miller       42             4             25\n",
       "1      Jason    Miller       42             4             25\n",
       "2      Jason    Miller  1111111             4             25\n",
       "3       Tina       Ali       36            31             57\n",
       "4       Jake    Milner       24             2             62\n",
       "5        Amy     Cooze       73             3             70"
      ]
     },
     "execution_count": 36,
     "metadata": {},
     "output_type": "execute_result"
    }
   ],
   "source": [
    "# How to delete duplicates from a Pandas DataFrame\n",
    "# load libraries\n",
    "import pandas as pd\n",
    "\n",
    "# Create dataframe with duplicates\n",
    "raw_data = {'first_name': \n",
    "['Jason', 'Jason', 'Jason','Tina', 'Jake', 'Amy'],\n",
    "'last_name': ['Miller', 'Miller', 'Miller','Ali', 'Milner', 'Cooze'],\n",
    "'age': [42, 42, 1111111, 36, 24, 73],\n",
    "'preTestScore': [4, 4, 4, 31, 2, 3],\n",
    "'postTestScore': [25, 25, 25, 57, 62, 70]}\n",
    "df = pd.DataFrame(raw_data)\n",
    "df"
   ]
  },
  {
   "cell_type": "code",
   "execution_count": 39,
   "metadata": {},
   "outputs": [
    {
     "name": "stdout",
     "output_type": "stream",
     "text": [
      "\n",
      "0    False\n",
      "1     True\n",
      "2    False\n",
      "3    False\n",
      "4    False\n",
      "5    False\n",
      "dtype: bool\n",
      "\n"
     ]
    },
    {
     "data": {
      "text/html": [
       "<div>\n",
       "<style scoped>\n",
       "    .dataframe tbody tr th:only-of-type {\n",
       "        vertical-align: middle;\n",
       "    }\n",
       "\n",
       "    .dataframe tbody tr th {\n",
       "        vertical-align: top;\n",
       "    }\n",
       "\n",
       "    .dataframe thead th {\n",
       "        text-align: right;\n",
       "    }\n",
       "</style>\n",
       "<table border=\"1\" class=\"dataframe\">\n",
       "  <thead>\n",
       "    <tr style=\"text-align: right;\">\n",
       "      <th></th>\n",
       "      <th>first_name</th>\n",
       "      <th>last_name</th>\n",
       "      <th>age</th>\n",
       "      <th>preTestScore</th>\n",
       "      <th>postTestScore</th>\n",
       "    </tr>\n",
       "  </thead>\n",
       "  <tbody>\n",
       "    <tr>\n",
       "      <th>0</th>\n",
       "      <td>Jason</td>\n",
       "      <td>Miller</td>\n",
       "      <td>42</td>\n",
       "      <td>4</td>\n",
       "      <td>25</td>\n",
       "    </tr>\n",
       "    <tr>\n",
       "      <th>1</th>\n",
       "      <td>Jason</td>\n",
       "      <td>Miller</td>\n",
       "      <td>42</td>\n",
       "      <td>4</td>\n",
       "      <td>25</td>\n",
       "    </tr>\n",
       "    <tr>\n",
       "      <th>2</th>\n",
       "      <td>Jason</td>\n",
       "      <td>Miller</td>\n",
       "      <td>1111111</td>\n",
       "      <td>4</td>\n",
       "      <td>25</td>\n",
       "    </tr>\n",
       "    <tr>\n",
       "      <th>3</th>\n",
       "      <td>Tina</td>\n",
       "      <td>Ali</td>\n",
       "      <td>36</td>\n",
       "      <td>31</td>\n",
       "      <td>57</td>\n",
       "    </tr>\n",
       "    <tr>\n",
       "      <th>4</th>\n",
       "      <td>Jake</td>\n",
       "      <td>Milner</td>\n",
       "      <td>24</td>\n",
       "      <td>2</td>\n",
       "      <td>62</td>\n",
       "    </tr>\n",
       "    <tr>\n",
       "      <th>5</th>\n",
       "      <td>Amy</td>\n",
       "      <td>Cooze</td>\n",
       "      <td>73</td>\n",
       "      <td>3</td>\n",
       "      <td>70</td>\n",
       "    </tr>\n",
       "  </tbody>\n",
       "</table>\n",
       "</div>"
      ],
      "text/plain": [
       "  first_name last_name      age  preTestScore  postTestScore\n",
       "0      Jason    Miller       42             4             25\n",
       "1      Jason    Miller       42             4             25\n",
       "2      Jason    Miller  1111111             4             25\n",
       "3       Tina       Ali       36            31             57\n",
       "4       Jake    Milner       24             2             62\n",
       "5        Amy     Cooze       73             3             70"
      ]
     },
     "execution_count": 39,
     "metadata": {},
     "output_type": "execute_result"
    }
   ],
   "source": [
    "# Identify which observations are duplicates\n",
    "print(); print(df.duplicated())\n",
    "print(); \n",
    "df"
   ]
  },
  {
   "cell_type": "code",
   "execution_count": 45,
   "metadata": {},
   "outputs": [
    {
     "data": {
      "text/html": [
       "<div>\n",
       "<style scoped>\n",
       "    .dataframe tbody tr th:only-of-type {\n",
       "        vertical-align: middle;\n",
       "    }\n",
       "\n",
       "    .dataframe tbody tr th {\n",
       "        vertical-align: top;\n",
       "    }\n",
       "\n",
       "    .dataframe thead th {\n",
       "        text-align: right;\n",
       "    }\n",
       "</style>\n",
       "<table border=\"1\" class=\"dataframe\">\n",
       "  <thead>\n",
       "    <tr style=\"text-align: right;\">\n",
       "      <th></th>\n",
       "      <th>first_name</th>\n",
       "      <th>last_name</th>\n",
       "      <th>age</th>\n",
       "      <th>preTestScore</th>\n",
       "      <th>postTestScore</th>\n",
       "    </tr>\n",
       "  </thead>\n",
       "  <tbody>\n",
       "    <tr>\n",
       "      <th>0</th>\n",
       "      <td>Jason</td>\n",
       "      <td>Miller</td>\n",
       "      <td>42</td>\n",
       "      <td>4</td>\n",
       "      <td>25</td>\n",
       "    </tr>\n",
       "    <tr>\n",
       "      <th>1</th>\n",
       "      <td>Jason</td>\n",
       "      <td>Miller</td>\n",
       "      <td>42</td>\n",
       "      <td>4</td>\n",
       "      <td>25</td>\n",
       "    </tr>\n",
       "    <tr>\n",
       "      <th>2</th>\n",
       "      <td>Jason</td>\n",
       "      <td>Miller</td>\n",
       "      <td>1111111</td>\n",
       "      <td>4</td>\n",
       "      <td>25</td>\n",
       "    </tr>\n",
       "    <tr>\n",
       "      <th>3</th>\n",
       "      <td>Tina</td>\n",
       "      <td>Ali</td>\n",
       "      <td>36</td>\n",
       "      <td>31</td>\n",
       "      <td>57</td>\n",
       "    </tr>\n",
       "    <tr>\n",
       "      <th>4</th>\n",
       "      <td>Jake</td>\n",
       "      <td>Milner</td>\n",
       "      <td>24</td>\n",
       "      <td>2</td>\n",
       "      <td>62</td>\n",
       "    </tr>\n",
       "    <tr>\n",
       "      <th>5</th>\n",
       "      <td>Amy</td>\n",
       "      <td>Cooze</td>\n",
       "      <td>73</td>\n",
       "      <td>3</td>\n",
       "      <td>70</td>\n",
       "    </tr>\n",
       "  </tbody>\n",
       "</table>\n",
       "</div>"
      ],
      "text/plain": [
       "  first_name last_name      age  preTestScore  postTestScore\n",
       "0      Jason    Miller       42             4             25\n",
       "1      Jason    Miller       42             4             25\n",
       "2      Jason    Miller  1111111             4             25\n",
       "3       Tina       Ali       36            31             57\n",
       "4       Jake    Milner       24             2             62\n",
       "5        Amy     Cooze       73             3             70"
      ]
     },
     "execution_count": 45,
     "metadata": {},
     "output_type": "execute_result"
    }
   ],
   "source": [
    "df"
   ]
  },
  {
   "cell_type": "code",
   "execution_count": 47,
   "metadata": {},
   "outputs": [
    {
     "name": "stdout",
     "output_type": "stream",
     "text": [
      "  first_name last_name      age  preTestScore  postTestScore\n",
      "0      Jason    Miller       42             4             25\n",
      "2      Jason    Miller  1111111             4             25\n",
      "3       Tina       Ali       36            31             57\n",
      "4       Jake    Milner       24             2             62\n",
      "5        Amy     Cooze       73             3             70\n"
     ]
    }
   ],
   "source": [
    "print(df.drop_duplicates(keep='first'))"
   ]
  },
  {
   "cell_type": "code",
   "execution_count": 40,
   "metadata": {},
   "outputs": [
    {
     "name": "stdout",
     "output_type": "stream",
     "text": [
      "  first_name last_name      age  preTestScore  postTestScore\n",
      "0      Jason    Miller       42             4             25\n",
      "2      Jason    Miller  1111111             4             25\n",
      "3       Tina       Ali       36            31             57\n",
      "4       Jake    Milner       24             2             62\n",
      "5        Amy     Cooze       73             3             70\n"
     ]
    }
   ],
   "source": [
    "print(df.drop_duplicates(keep='first'))"
   ]
  },
  {
   "cell_type": "code",
   "execution_count": 41,
   "metadata": {},
   "outputs": [
    {
     "data": {
      "text/html": [
       "<div>\n",
       "<style scoped>\n",
       "    .dataframe tbody tr th:only-of-type {\n",
       "        vertical-align: middle;\n",
       "    }\n",
       "\n",
       "    .dataframe tbody tr th {\n",
       "        vertical-align: top;\n",
       "    }\n",
       "\n",
       "    .dataframe thead th {\n",
       "        text-align: right;\n",
       "    }\n",
       "</style>\n",
       "<table border=\"1\" class=\"dataframe\">\n",
       "  <thead>\n",
       "    <tr style=\"text-align: right;\">\n",
       "      <th></th>\n",
       "      <th>first_name</th>\n",
       "      <th>last_name</th>\n",
       "      <th>age</th>\n",
       "      <th>preTestScore</th>\n",
       "      <th>postTestScore</th>\n",
       "    </tr>\n",
       "  </thead>\n",
       "  <tbody>\n",
       "    <tr>\n",
       "      <th>0</th>\n",
       "      <td>Jason</td>\n",
       "      <td>Miller</td>\n",
       "      <td>42</td>\n",
       "      <td>4</td>\n",
       "      <td>25</td>\n",
       "    </tr>\n",
       "    <tr>\n",
       "      <th>1</th>\n",
       "      <td>Jason</td>\n",
       "      <td>Miller</td>\n",
       "      <td>42</td>\n",
       "      <td>4</td>\n",
       "      <td>25</td>\n",
       "    </tr>\n",
       "    <tr>\n",
       "      <th>2</th>\n",
       "      <td>Jason</td>\n",
       "      <td>Miller</td>\n",
       "      <td>1111111</td>\n",
       "      <td>4</td>\n",
       "      <td>25</td>\n",
       "    </tr>\n",
       "    <tr>\n",
       "      <th>3</th>\n",
       "      <td>Tina</td>\n",
       "      <td>Ali</td>\n",
       "      <td>36</td>\n",
       "      <td>31</td>\n",
       "      <td>57</td>\n",
       "    </tr>\n",
       "    <tr>\n",
       "      <th>4</th>\n",
       "      <td>Jake</td>\n",
       "      <td>Milner</td>\n",
       "      <td>24</td>\n",
       "      <td>2</td>\n",
       "      <td>62</td>\n",
       "    </tr>\n",
       "    <tr>\n",
       "      <th>5</th>\n",
       "      <td>Amy</td>\n",
       "      <td>Cooze</td>\n",
       "      <td>73</td>\n",
       "      <td>3</td>\n",
       "      <td>70</td>\n",
       "    </tr>\n",
       "  </tbody>\n",
       "</table>\n",
       "</div>"
      ],
      "text/plain": [
       "  first_name last_name      age  preTestScore  postTestScore\n",
       "0      Jason    Miller       42             4             25\n",
       "1      Jason    Miller       42             4             25\n",
       "2      Jason    Miller  1111111             4             25\n",
       "3       Tina       Ali       36            31             57\n",
       "4       Jake    Milner       24             2             62\n",
       "5        Amy     Cooze       73             3             70"
      ]
     },
     "execution_count": 41,
     "metadata": {},
     "output_type": "execute_result"
    }
   ],
   "source": [
    "df"
   ]
  },
  {
   "cell_type": "code",
   "execution_count": 42,
   "metadata": {},
   "outputs": [
    {
     "name": "stdout",
     "output_type": "stream",
     "text": [
      "\n",
      "  first_name last_name      age  preTestScore  postTestScore\n",
      "2      Jason    Miller  1111111             4             25\n",
      "3       Tina       Ali       36            31             57\n",
      "4       Jake    Milner       24             2             62\n",
      "5        Amy     Cooze       73             3             70\n"
     ]
    }
   ],
   "source": [
    "# Drop duplicates in the first name column, but take the last obs in the duplicated set\n",
    "print(); print(df.drop_duplicates(['first_name'], keep='last'))"
   ]
  },
  {
   "cell_type": "code",
   "execution_count": 43,
   "metadata": {},
   "outputs": [
    {
     "data": {
      "text/html": [
       "<div>\n",
       "<style scoped>\n",
       "    .dataframe tbody tr th:only-of-type {\n",
       "        vertical-align: middle;\n",
       "    }\n",
       "\n",
       "    .dataframe tbody tr th {\n",
       "        vertical-align: top;\n",
       "    }\n",
       "\n",
       "    .dataframe thead th {\n",
       "        text-align: right;\n",
       "    }\n",
       "</style>\n",
       "<table border=\"1\" class=\"dataframe\">\n",
       "  <thead>\n",
       "    <tr style=\"text-align: right;\">\n",
       "      <th></th>\n",
       "      <th>first_name</th>\n",
       "      <th>last_name</th>\n",
       "      <th>age</th>\n",
       "      <th>preTestScore</th>\n",
       "      <th>postTestScore</th>\n",
       "    </tr>\n",
       "  </thead>\n",
       "  <tbody>\n",
       "    <tr>\n",
       "      <th>0</th>\n",
       "      <td>Jason</td>\n",
       "      <td>Miller</td>\n",
       "      <td>42</td>\n",
       "      <td>4</td>\n",
       "      <td>25</td>\n",
       "    </tr>\n",
       "    <tr>\n",
       "      <th>1</th>\n",
       "      <td>Jason</td>\n",
       "      <td>Miller</td>\n",
       "      <td>42</td>\n",
       "      <td>4</td>\n",
       "      <td>25</td>\n",
       "    </tr>\n",
       "    <tr>\n",
       "      <th>2</th>\n",
       "      <td>Jason</td>\n",
       "      <td>Miller</td>\n",
       "      <td>1111111</td>\n",
       "      <td>4</td>\n",
       "      <td>25</td>\n",
       "    </tr>\n",
       "    <tr>\n",
       "      <th>3</th>\n",
       "      <td>Tina</td>\n",
       "      <td>Ali</td>\n",
       "      <td>36</td>\n",
       "      <td>31</td>\n",
       "      <td>57</td>\n",
       "    </tr>\n",
       "    <tr>\n",
       "      <th>4</th>\n",
       "      <td>Jake</td>\n",
       "      <td>Milner</td>\n",
       "      <td>24</td>\n",
       "      <td>2</td>\n",
       "      <td>62</td>\n",
       "    </tr>\n",
       "    <tr>\n",
       "      <th>5</th>\n",
       "      <td>Amy</td>\n",
       "      <td>Cooze</td>\n",
       "      <td>73</td>\n",
       "      <td>3</td>\n",
       "      <td>70</td>\n",
       "    </tr>\n",
       "  </tbody>\n",
       "</table>\n",
       "</div>"
      ],
      "text/plain": [
       "  first_name last_name      age  preTestScore  postTestScore\n",
       "0      Jason    Miller       42             4             25\n",
       "1      Jason    Miller       42             4             25\n",
       "2      Jason    Miller  1111111             4             25\n",
       "3       Tina       Ali       36            31             57\n",
       "4       Jake    Milner       24             2             62\n",
       "5        Amy     Cooze       73             3             70"
      ]
     },
     "execution_count": 43,
     "metadata": {},
     "output_type": "execute_result"
    }
   ],
   "source": [
    "df"
   ]
  },
  {
   "cell_type": "code",
   "execution_count": 44,
   "metadata": {},
   "outputs": [
    {
     "name": "stdout",
     "output_type": "stream",
     "text": [
      "\n",
      "  first_name last_name  age  preTestScore  postTestScore\n",
      "0      Jason    Miller   42             4             25\n",
      "3       Tina       Ali   36            31             57\n",
      "4       Jake    Milner   24             2             62\n",
      "5        Amy     Cooze   73             3             70\n"
     ]
    }
   ],
   "source": [
    "print(); print(df.drop_duplicates(['first_name']))"
   ]
  },
  {
   "cell_type": "code",
   "execution_count": 49,
   "metadata": {},
   "outputs": [
    {
     "name": "stdout",
     "output_type": "stream",
     "text": [
      "\n",
      "             name  year  reports  coverage\n",
      "Cochice     Jason  2012        4        25\n",
      "Pima        Molly  2012       24        94\n",
      "Santa Cruz   Tina  2013       31        57\n",
      "Maricopa     Jake  2014        2        62\n",
      "Yuma          Amy  2014        3        70\n"
     ]
    }
   ],
   "source": [
    "# Create dataframe\n",
    "data = {'name': ['Jason', 'Molly', 'Tina', 'Jake', 'Amy'],\n",
    "        'year': [2012, 2012, 2013, 2014, 2014],\n",
    "        'reports': [4, 24, 31, 2, 3],\n",
    "        'coverage': [25, 94, 57, 62, 70]}\n",
    "\n",
    "df = pd.DataFrame(data, index = ['Cochice', 'Pima', 'Santa Cruz', 'Maricopa', 'Yuma'])\n",
    "print(); print(df)"
   ]
  },
  {
   "cell_type": "code",
   "execution_count": 50,
   "metadata": {},
   "outputs": [
    {
     "name": "stdout",
     "output_type": "stream",
     "text": [
      "\n",
      "             name  year  reports  coverage  coverageRanked\n",
      "Cochice     Jason  2012        4        25             1.0\n",
      "Pima        Molly  2012       24        94             5.0\n",
      "Santa Cruz   Tina  2013       31        57             2.0\n",
      "Maricopa     Jake  2014        2        62             3.0\n",
      "Yuma          Amy  2014        3        70             4.0\n"
     ]
    }
   ],
   "source": [
    "# Create a new column that is the rank of the value of coverage in ascending order\n",
    "df['coverageRanked'] = df['coverage'].rank(ascending=True)\n",
    "print(); print(df)"
   ]
  },
  {
   "cell_type": "code",
   "execution_count": 51,
   "metadata": {},
   "outputs": [
    {
     "name": "stdout",
     "output_type": "stream",
     "text": [
      "\n",
      "             name  year  reports  coverage  coverageRanked\n",
      "Cochice     Jason  2012        4        25             5.0\n",
      "Pima        Molly  2012       24        94             1.0\n",
      "Santa Cruz   Tina  2013       31        57             4.0\n",
      "Maricopa     Jake  2014        2        62             3.0\n",
      "Yuma          Amy  2014        3        70             2.0\n"
     ]
    }
   ],
   "source": [
    "# Create a new column that is the rank of the value of coverage in descending order\n",
    "df['coverageRanked'] = df['coverage'].rank(ascending=False)\n",
    "print(); print(df)\n"
   ]
  },
  {
   "cell_type": "code",
   "execution_count": 56,
   "metadata": {},
   "outputs": [
    {
     "name": "stdout",
     "output_type": "stream",
     "text": [
      "\n",
      "0    Steve Murrey\n",
      "1      Jane Fonda\n",
      "2    Sara Mcgully\n",
      "3       Mary Jane\n",
      "dtype: object\n",
      "\n",
      "0    [steve, Murrey]\n",
      "1      [Jane, Fonda]\n",
      "2    [Sara, McGully]\n",
      "3       [Mary, Jane]\n",
      "dtype: object\n"
     ]
    }
   ],
   "source": [
    "#How to format string in a Pandas DataFrame Column\n",
    "# load libraries\n",
    "import pandas as pd\n",
    "\n",
    "# Create a list of first names\n",
    "first_names = pd.Series(['steve Murrey', 'Jane Fonda',\n",
    "                         'Sara McGully', 'Mary Jane'])\n",
    "# print the column with lower case\n",
    "#print(); print(first_names.str.lower())\n",
    "\n",
    "# print the column with upper case\n",
    "#print(); print(first_names.str.upper())\n",
    "\n",
    "# print the column with title case\n",
    "print(); print(first_names.str.title())\n",
    "\n",
    "# print the column split across spaces\n",
    "print(); print(first_names.str.split(\" \"))\n",
    "\n",
    "# print the column with capitalized case\n",
    "#print(); print(first_names.str.capitalize())\n"
   ]
  },
  {
   "cell_type": "code",
   "execution_count": 60,
   "metadata": {},
   "outputs": [
    {
     "name": "stdout",
     "output_type": "stream",
     "text": [
      "\n",
      "      regiment company  TestScore\n",
      "0   Nighthawks     1st          4\n",
      "1   Nighthawks     1st         24\n",
      "2   Nighthawks     2nd         31\n",
      "3   Nighthawks     2nd          2\n",
      "4     Dragoons     1st          3\n",
      "5     Dragoons     1st          4\n",
      "6     Dragoons     2nd         24\n",
      "7     Dragoons     2nd         31\n",
      "8       Scouts     1st          2\n",
      "9       Scouts     1st          3\n",
      "10      Scouts     2nd          2\n",
      "11      Scouts     2nd          3\n",
      "\n",
      "                    TestScore\n",
      "regiment   company           \n",
      "Dragoons   1st            3.5\n",
      "           2nd           27.5\n",
      "Nighthawks 1st           14.0\n",
      "           2nd           16.5\n",
      "Scouts     1st            2.5\n",
      "           2nd            2.5\n"
     ]
    }
   ],
   "source": [
    "#How to create Pivot table using a Pandas DataFrame\n",
    "# load libraries\n",
    "import pandas as pd\n",
    "\n",
    "# Create dataframe\n",
    "raw_data = {'regiment': ['Nighthawks', 'Nighthawks', 'Nighthawks', 'Nighthawks',\n",
    "                         'Dragoons', 'Dragoons', 'Dragoons', 'Dragoons',\n",
    "                         'Scouts', 'Scouts', 'Scouts', 'Scouts'],\n",
    "            'company': ['1st', '1st', '2nd', '2nd', '1st', '1st', '2nd',\n",
    "                        '2nd','1st', '1st', '2nd', '2nd'],\n",
    "            'TestScore': [4, 24, 31, 2, 3, 4, 24, 31, 2, 3, 2, 3]}\n",
    "\n",
    "df = pd.DataFrame(raw_data, columns = ['regiment', 'company', 'TestScore'])\n",
    "print(); print(df)\n",
    "# Create a pivot table of group means, by company and regiment\n",
    "df1 = pd.pivot_table(df, index=['regiment','company'], aggfunc='mean')\n",
    "print(); print(df1)"
   ]
  },
  {
   "cell_type": "code",
   "execution_count": 61,
   "metadata": {},
   "outputs": [
    {
     "name": "stdout",
     "output_type": "stream",
     "text": [
      "\n",
      "                    TestScore\n",
      "regiment   company           \n",
      "Dragoons   1st              7\n",
      "           2nd             55\n",
      "Nighthawks 1st             28\n",
      "           2nd             33\n",
      "Scouts     1st              5\n",
      "           2nd              5\n"
     ]
    }
   ],
   "source": [
    "df1 = pd.pivot_table(df, index=['regiment','company'], aggfunc='sum')\n",
    "print(); print(df1)"
   ]
  },
  {
   "cell_type": "code",
   "execution_count": 62,
   "metadata": {},
   "outputs": [
    {
     "name": "stdout",
     "output_type": "stream",
     "text": [
      "\n",
      "                    TestScore\n",
      "regiment   company           \n",
      "Dragoons   1st              2\n",
      "           2nd              2\n",
      "Nighthawks 1st              2\n",
      "           2nd              2\n",
      "Scouts     1st              2\n",
      "           2nd              2\n"
     ]
    }
   ],
   "source": [
    "# Create a pivot table of group score counts, by company and regimensts\n",
    "df2 = df.pivot_table(index=['regiment','company'], aggfunc='count')\n",
    "print(); print(df2)\n"
   ]
  },
  {
   "cell_type": "code",
   "execution_count": 64,
   "metadata": {},
   "outputs": [
    {
     "name": "stdout",
     "output_type": "stream",
     "text": [
      "      regiment company  TestScore\n",
      "0   Nighthawks     1st          4\n",
      "1   Nighthawks     1st         24\n",
      "2   Nighthawks     2nd         31\n",
      "3   Nighthawks     2nd          2\n",
      "4     Dragoons     1st          3\n",
      "5     Dragoons     1st          4\n",
      "6     Dragoons     2nd         24\n",
      "7     Dragoons     2nd         31\n",
      "8       Scouts     1st          2\n",
      "9       Scouts     1st          3\n",
      "10      Scouts     2nd          2\n",
      "11      Scouts     2nd          3\n",
      "\n",
      "                    TestScore\n",
      "regiment   company           \n",
      "Dragoons   1st              4\n",
      "           2nd             31\n",
      "Nighthawks 1st             24\n",
      "           2nd             31\n",
      "Scouts     1st              3\n",
      "           2nd              3\n"
     ]
    }
   ],
   "source": [
    " # Create a pivot table of group score max, by company and regimensts\n",
    "df3 = df.pivot_table(index=['regiment','company'], aggfunc='max')\n",
    "print(df)\n",
    "print(); print(df3)"
   ]
  },
  {
   "cell_type": "code",
   "execution_count": 65,
   "metadata": {},
   "outputs": [
    {
     "name": "stdout",
     "output_type": "stream",
     "text": [
      "      regiment company  TestScore\n",
      "0   Nighthawks     1st          4\n",
      "1   Nighthawks     1st         24\n",
      "2   Nighthawks     2nd         31\n",
      "3   Nighthawks     2nd          2\n",
      "4     Dragoons     1st          3\n",
      "5     Dragoons     1st          4\n",
      "6     Dragoons     2nd         24\n",
      "7     Dragoons     2nd         31\n",
      "8       Scouts     1st          2\n",
      "9       Scouts     1st          3\n",
      "10      Scouts     2nd          2\n",
      "11      Scouts     2nd          3\n",
      "\n",
      "            TestScore company\n",
      "regiment                     \n",
      "Dragoons           31     2nd\n",
      "Nighthawks         31     2nd\n",
      "Scouts              3     2nd\n"
     ]
    }
   ],
   "source": []
  },
  {
   "cell_type": "code",
   "execution_count": 76,
   "metadata": {},
   "outputs": [
    {
     "name": "stdout",
     "output_type": "stream",
     "text": [
      "\n",
      "      regiment company      name  preTestScore  postTestScore\n",
      "0   Nighthawks     1st    Miller             4             25\n",
      "1   Nighthawks     1st  Jacobson            24             94\n",
      "2   Nighthawks     2nd      Bali            31             57\n",
      "3   Nighthawks     2nd    Milner             2             62\n",
      "4     Dragoons     1st     Cooze             3             70\n",
      "5     Dragoons     1st     Jacon             4             25\n",
      "6     Dragoons     2nd    Ryaner            24             94\n",
      "7     Dragoons     2nd      Sone            31             57\n",
      "8       Scouts     1st     Sloan             2             62\n",
      "9       Scouts     1st     Piger             3             70\n",
      "10      Scouts     2nd     Riani             2             62\n",
      "11      Scouts     2nd       Ali             3             70\n"
     ]
    }
   ],
   "source": [
    "# How to calculate MOVING AVG in a Pandas DataFrame\n",
    "raw_data = {'regiment': ['Nighthawks', 'Nighthawks', 'Nighthawks', 'Nighthawks',\n",
    "                         'Dragoons', 'Dragoons', 'Dragoons', 'Dragoons', 'Scouts',\n",
    "                         'Scouts', 'Scouts', 'Scouts'],\n",
    "            'company': ['1st', '1st', '2nd', '2nd', '1st', '1st', '2nd',\n",
    "                        '2nd','1st', '1st', '2nd', '2nd'],\n",
    "            'name': ['Miller', 'Jacobson', 'Bali', 'Milner', 'Cooze', 'Jacon',\n",
    "                     'Ryaner', 'Sone', 'Sloan', 'Piger', 'Riani', 'Ali'],\n",
    "            'preTestScore': [4, 24, 31, 2, 3, 4, 24, 31, 2, 3, 2, 3],\n",
    "            'postTestScore': [25, 94, 57, 62, 70, 25, 94, 57, 62, 70, 62, 70]}\n",
    "df = pd.DataFrame(raw_data, columns = ['regiment', 'company', 'name',\n",
    "                                       'preTestScore', 'postTestScore'])\n",
    "print(); print(df)"
   ]
  },
  {
   "cell_type": "code",
   "execution_count": 77,
   "metadata": {},
   "outputs": [
    {
     "data": {
      "text/html": [
       "<div>\n",
       "<style scoped>\n",
       "    .dataframe tbody tr th:only-of-type {\n",
       "        vertical-align: middle;\n",
       "    }\n",
       "\n",
       "    .dataframe tbody tr th {\n",
       "        vertical-align: top;\n",
       "    }\n",
       "\n",
       "    .dataframe thead th {\n",
       "        text-align: right;\n",
       "    }\n",
       "</style>\n",
       "<table border=\"1\" class=\"dataframe\">\n",
       "  <thead>\n",
       "    <tr style=\"text-align: right;\">\n",
       "      <th></th>\n",
       "      <th>preTestScore</th>\n",
       "      <th>postTestScore</th>\n",
       "    </tr>\n",
       "  </thead>\n",
       "  <tbody>\n",
       "    <tr>\n",
       "      <th>0</th>\n",
       "      <td>NaN</td>\n",
       "      <td>NaN</td>\n",
       "    </tr>\n",
       "    <tr>\n",
       "      <th>1</th>\n",
       "      <td>14.0</td>\n",
       "      <td>59.5</td>\n",
       "    </tr>\n",
       "    <tr>\n",
       "      <th>2</th>\n",
       "      <td>27.5</td>\n",
       "      <td>75.5</td>\n",
       "    </tr>\n",
       "    <tr>\n",
       "      <th>3</th>\n",
       "      <td>16.5</td>\n",
       "      <td>59.5</td>\n",
       "    </tr>\n",
       "    <tr>\n",
       "      <th>4</th>\n",
       "      <td>2.5</td>\n",
       "      <td>66.0</td>\n",
       "    </tr>\n",
       "    <tr>\n",
       "      <th>5</th>\n",
       "      <td>3.5</td>\n",
       "      <td>47.5</td>\n",
       "    </tr>\n",
       "    <tr>\n",
       "      <th>6</th>\n",
       "      <td>14.0</td>\n",
       "      <td>59.5</td>\n",
       "    </tr>\n",
       "    <tr>\n",
       "      <th>7</th>\n",
       "      <td>27.5</td>\n",
       "      <td>75.5</td>\n",
       "    </tr>\n",
       "    <tr>\n",
       "      <th>8</th>\n",
       "      <td>16.5</td>\n",
       "      <td>59.5</td>\n",
       "    </tr>\n",
       "    <tr>\n",
       "      <th>9</th>\n",
       "      <td>2.5</td>\n",
       "      <td>66.0</td>\n",
       "    </tr>\n",
       "    <tr>\n",
       "      <th>10</th>\n",
       "      <td>2.5</td>\n",
       "      <td>66.0</td>\n",
       "    </tr>\n",
       "    <tr>\n",
       "      <th>11</th>\n",
       "      <td>2.5</td>\n",
       "      <td>66.0</td>\n",
       "    </tr>\n",
       "  </tbody>\n",
       "</table>\n",
       "</div>"
      ],
      "text/plain": [
       "    preTestScore  postTestScore\n",
       "0            NaN            NaN\n",
       "1           14.0           59.5\n",
       "2           27.5           75.5\n",
       "3           16.5           59.5\n",
       "4            2.5           66.0\n",
       "5            3.5           47.5\n",
       "6           14.0           59.5\n",
       "7           27.5           75.5\n",
       "8           16.5           59.5\n",
       "9            2.5           66.0\n",
       "10           2.5           66.0\n",
       "11           2.5           66.0"
      ]
     },
     "execution_count": 77,
     "metadata": {},
     "output_type": "execute_result"
    }
   ],
   "source": [
    " # Calculate Rolling Moving Average with Window of 2\n",
    "df1 = df[['preTestScore','postTestScore']].rolling(window=2).mean()\n",
    "df1"
   ]
  },
  {
   "cell_type": "code",
   "execution_count": 78,
   "metadata": {},
   "outputs": [
    {
     "name": "stdout",
     "output_type": "stream",
     "text": [
      "\n",
      "    preTestScore  postTestScore\n",
      "0            0.0            0.0\n",
      "1           14.0           59.5\n",
      "2           27.5           75.5\n",
      "3           16.5           59.5\n",
      "4            2.5           66.0\n",
      "5            3.5           47.5\n",
      "6           14.0           59.5\n",
      "7           27.5           75.5\n",
      "8           16.5           59.5\n",
      "9            2.5           66.0\n",
      "10           2.5           66.0\n",
      "11           2.5           66.0\n"
     ]
    }
   ],
   "source": [
    "df2 = df1.fillna(0)\n",
    "print(); print(df2)"
   ]
  },
  {
   "cell_type": "code",
   "execution_count": 80,
   "metadata": {},
   "outputs": [
    {
     "name": "stdout",
     "output_type": "stream",
     "text": [
      "\n",
      "  first_name last_name   age  sex  preTestScore  postTestScore\n",
      "0      Jason    Miller  42.0    m           4.0           25.0\n",
      "1        NaN       NaN   NaN  NaN           NaN            NaN\n",
      "2       Tina       Ali  36.0    f           NaN            NaN\n",
      "3       Jake    Milner  24.0    m           2.0           62.0\n",
      "4        Amy     Cooze  73.0    f           3.0           70.0\n"
     ]
    }
   ],
   "source": [
    "# How to deal with missing values in a Pandas DataFrame\n",
    "# load libraries\n",
    "import pandas as pd\n",
    "import numpy as np\n",
    "\n",
    "# Create dataframe with missing values\n",
    "raw_data = {'first_name': ['Jason', np.nan, 'Tina', 'Jake', 'Amy'],\n",
    "            'last_name': ['Miller', np.nan, 'Ali', 'Milner', 'Cooze'],\n",
    "            'age': [42, np.nan, 36, 24, 73],\n",
    "            'sex': ['m', np.nan, 'f', 'm', 'f'],\n",
    "            'preTestScore': [4, np.nan, np.nan, 2, 3],\n",
    "            'postTestScore': [25, np.nan, np.nan, 62, 70]}\n",
    "df = pd.DataFrame(raw_data, columns = ['first_name', 'last_name', 'age', 'sex',\n",
    "                                       'preTestScore', 'postTestScore'])\n",
    "print(); print(df)"
   ]
  },
  {
   "cell_type": "code",
   "execution_count": 81,
   "metadata": {},
   "outputs": [
    {
     "name": "stdout",
     "output_type": "stream",
     "text": [
      "\n",
      "  first_name last_name   age sex  preTestScore  postTestScore\n",
      "0      Jason    Miller  42.0   m           4.0           25.0\n",
      "3       Jake    Milner  24.0   m           2.0           62.0\n",
      "4        Amy     Cooze  73.0   f           3.0           70.0\n"
     ]
    }
   ],
   "source": [
    "# Drop missing observations\n",
    "df_no_missing = df.dropna()\n",
    "print(); print(df_no_missing)\n"
   ]
  },
  {
   "cell_type": "code",
   "execution_count": 82,
   "metadata": {},
   "outputs": [
    {
     "data": {
      "text/html": [
       "<div>\n",
       "<style scoped>\n",
       "    .dataframe tbody tr th:only-of-type {\n",
       "        vertical-align: middle;\n",
       "    }\n",
       "\n",
       "    .dataframe tbody tr th {\n",
       "        vertical-align: top;\n",
       "    }\n",
       "\n",
       "    .dataframe thead th {\n",
       "        text-align: right;\n",
       "    }\n",
       "</style>\n",
       "<table border=\"1\" class=\"dataframe\">\n",
       "  <thead>\n",
       "    <tr style=\"text-align: right;\">\n",
       "      <th></th>\n",
       "      <th>first_name</th>\n",
       "      <th>last_name</th>\n",
       "      <th>age</th>\n",
       "      <th>sex</th>\n",
       "      <th>preTestScore</th>\n",
       "      <th>postTestScore</th>\n",
       "    </tr>\n",
       "  </thead>\n",
       "  <tbody>\n",
       "    <tr>\n",
       "      <th>0</th>\n",
       "      <td>Jason</td>\n",
       "      <td>Miller</td>\n",
       "      <td>42.0</td>\n",
       "      <td>m</td>\n",
       "      <td>4.0</td>\n",
       "      <td>25.0</td>\n",
       "    </tr>\n",
       "    <tr>\n",
       "      <th>1</th>\n",
       "      <td>NaN</td>\n",
       "      <td>NaN</td>\n",
       "      <td>NaN</td>\n",
       "      <td>NaN</td>\n",
       "      <td>NaN</td>\n",
       "      <td>NaN</td>\n",
       "    </tr>\n",
       "    <tr>\n",
       "      <th>2</th>\n",
       "      <td>Tina</td>\n",
       "      <td>Ali</td>\n",
       "      <td>36.0</td>\n",
       "      <td>f</td>\n",
       "      <td>NaN</td>\n",
       "      <td>NaN</td>\n",
       "    </tr>\n",
       "    <tr>\n",
       "      <th>3</th>\n",
       "      <td>Jake</td>\n",
       "      <td>Milner</td>\n",
       "      <td>24.0</td>\n",
       "      <td>m</td>\n",
       "      <td>2.0</td>\n",
       "      <td>62.0</td>\n",
       "    </tr>\n",
       "    <tr>\n",
       "      <th>4</th>\n",
       "      <td>Amy</td>\n",
       "      <td>Cooze</td>\n",
       "      <td>73.0</td>\n",
       "      <td>f</td>\n",
       "      <td>3.0</td>\n",
       "      <td>70.0</td>\n",
       "    </tr>\n",
       "  </tbody>\n",
       "</table>\n",
       "</div>"
      ],
      "text/plain": [
       "  first_name last_name   age  sex  preTestScore  postTestScore\n",
       "0      Jason    Miller  42.0    m           4.0           25.0\n",
       "1        NaN       NaN   NaN  NaN           NaN            NaN\n",
       "2       Tina       Ali  36.0    f           NaN            NaN\n",
       "3       Jake    Milner  24.0    m           2.0           62.0\n",
       "4        Amy     Cooze  73.0    f           3.0           70.0"
      ]
     },
     "execution_count": 82,
     "metadata": {},
     "output_type": "execute_result"
    }
   ],
   "source": [
    "df"
   ]
  },
  {
   "cell_type": "code",
   "execution_count": 84,
   "metadata": {},
   "outputs": [
    {
     "name": "stdout",
     "output_type": "stream",
     "text": [
      "\n",
      "  first_name last_name   age sex  preTestScore  postTestScore\n",
      "0      Jason    Miller  42.0   m           4.0           25.0\n",
      "2       Tina       Ali  36.0   f           NaN            NaN\n",
      "3       Jake    Milner  24.0   m           2.0           62.0\n",
      "4        Amy     Cooze  73.0   f           3.0           70.0\n"
     ]
    }
   ],
   "source": [
    "# Drop rows where all cells in that row is NA\n",
    "df_cleaned = df.dropna(how='all')\n",
    "print(); print(df_cleaned)\n"
   ]
  },
  {
   "cell_type": "code",
   "execution_count": 86,
   "metadata": {},
   "outputs": [
    {
     "name": "stdout",
     "output_type": "stream",
     "text": [
      "\n",
      "  first_name last_name   age  sex  preTestScore  postTestScore  location\n",
      "0      Jason    Miller  42.0    m           4.0           25.0       NaN\n",
      "1        NaN       NaN   NaN  NaN           NaN            NaN       NaN\n",
      "2       Tina       Ali  36.0    f           NaN            NaN       NaN\n",
      "3       Jake    Milner  24.0    m           2.0           62.0       NaN\n",
      "4        Amy     Cooze  73.0    f           3.0           70.0       NaN\n"
     ]
    }
   ],
   "source": [
    "# Create a new column full of missing values\n",
    "df['location'] = np.nan\n",
    "print(); print(df)"
   ]
  },
  {
   "cell_type": "code",
   "execution_count": 87,
   "metadata": {},
   "outputs": [
    {
     "name": "stdout",
     "output_type": "stream",
     "text": [
      "\n",
      "  first_name last_name   age  sex  preTestScore  postTestScore\n",
      "0      Jason    Miller  42.0    m           4.0           25.0\n",
      "1        NaN       NaN   NaN  NaN           NaN            NaN\n",
      "2       Tina       Ali  36.0    f           NaN            NaN\n",
      "3       Jake    Milner  24.0    m           2.0           62.0\n",
      "4        Amy     Cooze  73.0    f           3.0           70.0\n"
     ]
    }
   ],
   "source": [
    "# Drop column if they only contain missing values\n",
    "print(); print(df.dropna(axis=1, how='all'))"
   ]
  },
  {
   "cell_type": "code",
   "execution_count": 88,
   "metadata": {},
   "outputs": [
    {
     "name": "stdout",
     "output_type": "stream",
     "text": [
      "\n",
      "  first_name last_name   age sex  preTestScore  postTestScore  location\n",
      "0      Jason    Miller  42.0   m           4.0           25.0       NaN\n",
      "2       Tina       Ali  36.0   f           NaN            NaN       NaN\n",
      "3       Jake    Milner  24.0   m           2.0           62.0       NaN\n",
      "4        Amy     Cooze  73.0   f           3.0           70.0       NaN\n"
     ]
    }
   ],
   "source": [
    "print(); print(df.dropna(axis=0, how='all'))"
   ]
  },
  {
   "cell_type": "code",
   "execution_count": 90,
   "metadata": {},
   "outputs": [
    {
     "name": "stdout",
     "output_type": "stream",
     "text": [
      "  first_name last_name   age  sex  preTestScore  postTestScore  location\n",
      "0      Jason    Miller  42.0    m           4.0           25.0       NaN\n",
      "1        NaN       NaN   NaN  NaN           NaN            NaN       NaN\n",
      "2       Tina       Ali  36.0    f           NaN            NaN       NaN\n",
      "3       Jake    Milner  24.0    m           2.0           62.0       NaN\n",
      "4        Amy     Cooze  73.0    f           3.0           70.0       NaN\n",
      "\n",
      "  first_name last_name   age sex  preTestScore  postTestScore  location\n",
      "0      Jason    Miller  42.0   m           4.0           25.0       NaN\n",
      "2       Tina       Ali  36.0   f           NaN            NaN       NaN\n",
      "3       Jake    Milner  24.0   m           2.0           62.0       NaN\n",
      "4        Amy     Cooze  73.0   f           3.0           70.0       NaN\n"
     ]
    }
   ],
   "source": [
    "# Drop rows that contain less than five observations\n",
    "# This is really mostly useful for time series\n",
    "print(df)\n",
    "print(); print(df.dropna(thresh=3))"
   ]
  },
  {
   "cell_type": "code",
   "execution_count": 92,
   "metadata": {},
   "outputs": [
    {
     "name": "stdout",
     "output_type": "stream",
     "text": [
      "  first_name last_name   age sex  preTestScore  postTestScore  location\n",
      "0      Jason    Miller  42.0   m           4.0           25.0       NaN\n",
      "2       Tina       Ali  36.0   f           NaN            NaN       NaN\n",
      "3       Jake    Milner  24.0   m           2.0           62.0       NaN\n",
      "4        Amy     Cooze  73.0   f           3.0           70.0       NaN\n"
     ]
    }
   ],
   "source": [
    "print(df.dropna(thresh=4))"
   ]
  },
  {
   "cell_type": "code",
   "execution_count": 93,
   "metadata": {},
   "outputs": [
    {
     "data": {
      "text/html": [
       "<div>\n",
       "<style scoped>\n",
       "    .dataframe tbody tr th:only-of-type {\n",
       "        vertical-align: middle;\n",
       "    }\n",
       "\n",
       "    .dataframe tbody tr th {\n",
       "        vertical-align: top;\n",
       "    }\n",
       "\n",
       "    .dataframe thead th {\n",
       "        text-align: right;\n",
       "    }\n",
       "</style>\n",
       "<table border=\"1\" class=\"dataframe\">\n",
       "  <thead>\n",
       "    <tr style=\"text-align: right;\">\n",
       "      <th></th>\n",
       "      <th>first_name</th>\n",
       "      <th>last_name</th>\n",
       "      <th>age</th>\n",
       "      <th>sex</th>\n",
       "      <th>preTestScore</th>\n",
       "      <th>postTestScore</th>\n",
       "      <th>location</th>\n",
       "    </tr>\n",
       "  </thead>\n",
       "  <tbody>\n",
       "    <tr>\n",
       "      <th>0</th>\n",
       "      <td>Jason</td>\n",
       "      <td>Miller</td>\n",
       "      <td>42.0</td>\n",
       "      <td>m</td>\n",
       "      <td>4.0</td>\n",
       "      <td>25.0</td>\n",
       "      <td>NaN</td>\n",
       "    </tr>\n",
       "    <tr>\n",
       "      <th>1</th>\n",
       "      <td>NaN</td>\n",
       "      <td>NaN</td>\n",
       "      <td>NaN</td>\n",
       "      <td>NaN</td>\n",
       "      <td>NaN</td>\n",
       "      <td>NaN</td>\n",
       "      <td>NaN</td>\n",
       "    </tr>\n",
       "    <tr>\n",
       "      <th>2</th>\n",
       "      <td>Tina</td>\n",
       "      <td>Ali</td>\n",
       "      <td>36.0</td>\n",
       "      <td>f</td>\n",
       "      <td>NaN</td>\n",
       "      <td>NaN</td>\n",
       "      <td>NaN</td>\n",
       "    </tr>\n",
       "    <tr>\n",
       "      <th>3</th>\n",
       "      <td>Jake</td>\n",
       "      <td>Milner</td>\n",
       "      <td>24.0</td>\n",
       "      <td>m</td>\n",
       "      <td>2.0</td>\n",
       "      <td>62.0</td>\n",
       "      <td>NaN</td>\n",
       "    </tr>\n",
       "    <tr>\n",
       "      <th>4</th>\n",
       "      <td>Amy</td>\n",
       "      <td>Cooze</td>\n",
       "      <td>73.0</td>\n",
       "      <td>f</td>\n",
       "      <td>3.0</td>\n",
       "      <td>70.0</td>\n",
       "      <td>NaN</td>\n",
       "    </tr>\n",
       "  </tbody>\n",
       "</table>\n",
       "</div>"
      ],
      "text/plain": [
       "  first_name last_name   age  sex  preTestScore  postTestScore  location\n",
       "0      Jason    Miller  42.0    m           4.0           25.0       NaN\n",
       "1        NaN       NaN   NaN  NaN           NaN            NaN       NaN\n",
       "2       Tina       Ali  36.0    f           NaN            NaN       NaN\n",
       "3       Jake    Milner  24.0    m           2.0           62.0       NaN\n",
       "4        Amy     Cooze  73.0    f           3.0           70.0       NaN"
      ]
     },
     "execution_count": 93,
     "metadata": {},
     "output_type": "execute_result"
    }
   ],
   "source": [
    "df"
   ]
  },
  {
   "cell_type": "code",
   "execution_count": 94,
   "metadata": {},
   "outputs": [
    {
     "name": "stdout",
     "output_type": "stream",
     "text": [
      "\n",
      "  first_name last_name   age sex  preTestScore  postTestScore  location\n",
      "0      Jason    Miller  42.0   m           4.0           25.0       0.0\n",
      "1          0         0   0.0   0           0.0            0.0       0.0\n",
      "2       Tina       Ali  36.0   f           0.0            0.0       0.0\n",
      "3       Jake    Milner  24.0   m           2.0           62.0       0.0\n",
      "4        Amy     Cooze  73.0   f           3.0           70.0       0.0\n"
     ]
    }
   ],
   "source": [
    "# Fill in missing data with zeros\n",
    "print(); print(df.fillna(0))"
   ]
  },
  {
   "cell_type": "code",
   "execution_count": 95,
   "metadata": {},
   "outputs": [
    {
     "name": "stdout",
     "output_type": "stream",
     "text": [
      "Empty DataFrame\n",
      "Columns: []\n",
      "Index: [0, 1, 2, 3, 4]\n"
     ]
    }
   ],
   "source": [
    "print(df.dropna(axis=1))"
   ]
  },
  {
   "cell_type": "code",
   "execution_count": 96,
   "metadata": {},
   "outputs": [
    {
     "data": {
      "text/html": [
       "<div>\n",
       "<style scoped>\n",
       "    .dataframe tbody tr th:only-of-type {\n",
       "        vertical-align: middle;\n",
       "    }\n",
       "\n",
       "    .dataframe tbody tr th {\n",
       "        vertical-align: top;\n",
       "    }\n",
       "\n",
       "    .dataframe thead th {\n",
       "        text-align: right;\n",
       "    }\n",
       "</style>\n",
       "<table border=\"1\" class=\"dataframe\">\n",
       "  <thead>\n",
       "    <tr style=\"text-align: right;\">\n",
       "      <th></th>\n",
       "      <th>first_name</th>\n",
       "      <th>last_name</th>\n",
       "      <th>age</th>\n",
       "      <th>sex</th>\n",
       "      <th>preTestScore</th>\n",
       "      <th>postTestScore</th>\n",
       "      <th>location</th>\n",
       "    </tr>\n",
       "  </thead>\n",
       "  <tbody>\n",
       "    <tr>\n",
       "      <th>0</th>\n",
       "      <td>Jason</td>\n",
       "      <td>Miller</td>\n",
       "      <td>42.0</td>\n",
       "      <td>m</td>\n",
       "      <td>4.0</td>\n",
       "      <td>25.0</td>\n",
       "      <td>NaN</td>\n",
       "    </tr>\n",
       "    <tr>\n",
       "      <th>1</th>\n",
       "      <td>NaN</td>\n",
       "      <td>NaN</td>\n",
       "      <td>NaN</td>\n",
       "      <td>NaN</td>\n",
       "      <td>NaN</td>\n",
       "      <td>NaN</td>\n",
       "      <td>NaN</td>\n",
       "    </tr>\n",
       "    <tr>\n",
       "      <th>2</th>\n",
       "      <td>Tina</td>\n",
       "      <td>Ali</td>\n",
       "      <td>36.0</td>\n",
       "      <td>f</td>\n",
       "      <td>NaN</td>\n",
       "      <td>NaN</td>\n",
       "      <td>NaN</td>\n",
       "    </tr>\n",
       "    <tr>\n",
       "      <th>3</th>\n",
       "      <td>Jake</td>\n",
       "      <td>Milner</td>\n",
       "      <td>24.0</td>\n",
       "      <td>m</td>\n",
       "      <td>2.0</td>\n",
       "      <td>62.0</td>\n",
       "      <td>NaN</td>\n",
       "    </tr>\n",
       "    <tr>\n",
       "      <th>4</th>\n",
       "      <td>Amy</td>\n",
       "      <td>Cooze</td>\n",
       "      <td>73.0</td>\n",
       "      <td>f</td>\n",
       "      <td>3.0</td>\n",
       "      <td>70.0</td>\n",
       "      <td>NaN</td>\n",
       "    </tr>\n",
       "  </tbody>\n",
       "</table>\n",
       "</div>"
      ],
      "text/plain": [
       "  first_name last_name   age  sex  preTestScore  postTestScore  location\n",
       "0      Jason    Miller  42.0    m           4.0           25.0       NaN\n",
       "1        NaN       NaN   NaN  NaN           NaN            NaN       NaN\n",
       "2       Tina       Ali  36.0    f           NaN            NaN       NaN\n",
       "3       Jake    Milner  24.0    m           2.0           62.0       NaN\n",
       "4        Amy     Cooze  73.0    f           3.0           70.0       NaN"
      ]
     },
     "execution_count": 96,
     "metadata": {},
     "output_type": "execute_result"
    }
   ],
   "source": [
    "df"
   ]
  },
  {
   "cell_type": "code",
   "execution_count": 97,
   "metadata": {},
   "outputs": [
    {
     "name": "stdout",
     "output_type": "stream",
     "text": [
      "\n",
      "  first_name last_name   age  sex  preTestScore  postTestScore  location\n",
      "0      Jason    Miller  42.0    m           4.0           25.0       NaN\n",
      "1        NaN       NaN   NaN  NaN           3.0            NaN       NaN\n",
      "2       Tina       Ali  36.0    f           3.0            NaN       NaN\n",
      "3       Jake    Milner  24.0    m           2.0           62.0       NaN\n",
      "4        Amy     Cooze  73.0    f           3.0           70.0       NaN\n"
     ]
    }
   ],
   "source": [
    "# Fill in missing in preTestScore with the mean value of preTestScore\n",
    "# inplace=True means that the changes are saved to the df right away\n",
    "df[\"preTestScore\"].fillna(df[\"preTestScore\"].mean(), inplace=True)\n",
    "print(); print(df)"
   ]
  },
  {
   "cell_type": "code",
   "execution_count": 100,
   "metadata": {},
   "outputs": [
    {
     "name": "stdout",
     "output_type": "stream",
     "text": [
      "  first_name last_name   age  sex  preTestScore  postTestScore  location\n",
      "0      Jason    Miller  42.0    m           4.0      25.000000       NaN\n",
      "1        NaN       NaN   NaN  NaN           3.0      52.333333       NaN\n",
      "2       Tina       Ali  36.0    f           3.0      52.333333       NaN\n",
      "3       Jake    Milner  24.0    m           2.0      62.000000       NaN\n",
      "4        Amy     Cooze  73.0    f           3.0      70.000000       NaN\n"
     ]
    }
   ],
   "source": [
    "# Fill in missing in preTestScore with the mean value of preTestScore\n",
    "# inplace=True means that the changes are saved to the df right away\n",
    "df[\"preTestScore\"].fillna(df[\"preTestScore\"].mean(), inplace=True)\n",
    "df['postTestScore'].fillna(df['postTestScore'].mean(),inplace=True)\n",
    "print(df)"
   ]
  },
  {
   "cell_type": "code",
   "execution_count": 101,
   "metadata": {},
   "outputs": [
    {
     "data": {
      "text/html": [
       "<div>\n",
       "<style scoped>\n",
       "    .dataframe tbody tr th:only-of-type {\n",
       "        vertical-align: middle;\n",
       "    }\n",
       "\n",
       "    .dataframe tbody tr th {\n",
       "        vertical-align: top;\n",
       "    }\n",
       "\n",
       "    .dataframe thead th {\n",
       "        text-align: right;\n",
       "    }\n",
       "</style>\n",
       "<table border=\"1\" class=\"dataframe\">\n",
       "  <thead>\n",
       "    <tr style=\"text-align: right;\">\n",
       "      <th></th>\n",
       "      <th>first_name</th>\n",
       "      <th>last_name</th>\n",
       "      <th>age</th>\n",
       "      <th>sex</th>\n",
       "      <th>preTestScore</th>\n",
       "      <th>postTestScore</th>\n",
       "      <th>location</th>\n",
       "    </tr>\n",
       "  </thead>\n",
       "  <tbody>\n",
       "    <tr>\n",
       "      <th>0</th>\n",
       "      <td>Jason</td>\n",
       "      <td>Miller</td>\n",
       "      <td>42.0</td>\n",
       "      <td>m</td>\n",
       "      <td>4.0</td>\n",
       "      <td>25.000000</td>\n",
       "      <td>NaN</td>\n",
       "    </tr>\n",
       "    <tr>\n",
       "      <th>1</th>\n",
       "      <td>NaN</td>\n",
       "      <td>NaN</td>\n",
       "      <td>NaN</td>\n",
       "      <td>NaN</td>\n",
       "      <td>3.0</td>\n",
       "      <td>52.333333</td>\n",
       "      <td>NaN</td>\n",
       "    </tr>\n",
       "    <tr>\n",
       "      <th>2</th>\n",
       "      <td>Tina</td>\n",
       "      <td>Ali</td>\n",
       "      <td>36.0</td>\n",
       "      <td>f</td>\n",
       "      <td>3.0</td>\n",
       "      <td>52.333333</td>\n",
       "      <td>NaN</td>\n",
       "    </tr>\n",
       "    <tr>\n",
       "      <th>3</th>\n",
       "      <td>Jake</td>\n",
       "      <td>Milner</td>\n",
       "      <td>24.0</td>\n",
       "      <td>m</td>\n",
       "      <td>2.0</td>\n",
       "      <td>62.000000</td>\n",
       "      <td>NaN</td>\n",
       "    </tr>\n",
       "    <tr>\n",
       "      <th>4</th>\n",
       "      <td>Amy</td>\n",
       "      <td>Cooze</td>\n",
       "      <td>73.0</td>\n",
       "      <td>f</td>\n",
       "      <td>3.0</td>\n",
       "      <td>70.000000</td>\n",
       "      <td>NaN</td>\n",
       "    </tr>\n",
       "  </tbody>\n",
       "</table>\n",
       "</div>"
      ],
      "text/plain": [
       "  first_name last_name   age  sex  preTestScore  postTestScore  location\n",
       "0      Jason    Miller  42.0    m           4.0      25.000000       NaN\n",
       "1        NaN       NaN   NaN  NaN           3.0      52.333333       NaN\n",
       "2       Tina       Ali  36.0    f           3.0      52.333333       NaN\n",
       "3       Jake    Milner  24.0    m           2.0      62.000000       NaN\n",
       "4        Amy     Cooze  73.0    f           3.0      70.000000       NaN"
      ]
     },
     "execution_count": 101,
     "metadata": {},
     "output_type": "execute_result"
    }
   ],
   "source": [
    "df"
   ]
  },
  {
   "cell_type": "code",
   "execution_count": 102,
   "metadata": {},
   "outputs": [
    {
     "name": "stdout",
     "output_type": "stream",
     "text": [
      "\n",
      "  first_name last_name   age  sex  preTestScore  postTestScore  location\n",
      "0      Jason    Miller  42.0    m           4.0      25.000000       NaN\n",
      "1        NaN       NaN   NaN  NaN           3.0      52.333333       NaN\n",
      "2       Tina       Ali  36.0    f           3.0      52.333333       NaN\n",
      "3       Jake    Milner  24.0    m           2.0      62.000000       NaN\n",
      "4        Amy     Cooze  73.0    f           3.0      70.000000       NaN\n"
     ]
    }
   ],
   "source": [
    "# Fill in missing in postTestScore with each sex’s mean value of postTestScore\n",
    "df[\"postTestScore\"].fillna(df.groupby(\"sex\")[\"postTestScore\"].transform(\"mean\"), inplace=True)\n",
    "print(); print(df)"
   ]
  },
  {
   "cell_type": "code",
   "execution_count": 104,
   "metadata": {},
   "outputs": [
    {
     "name": "stdout",
     "output_type": "stream",
     "text": [
      "\n",
      "  first_name last_name   age sex  preTestScore  postTestScore  location\n",
      "0      Jason    Miller  42.0   m           4.0      25.000000       NaN\n",
      "2       Tina       Ali  36.0   f           3.0      52.333333       NaN\n",
      "3       Jake    Milner  24.0   m           2.0      62.000000       NaN\n",
      "4        Amy     Cooze  73.0   f           3.0      70.000000       NaN\n",
      "\n",
      "  first_name last_name   age sex  preTestScore  postTestScore  location\n",
      "0      Jason    Miller  42.0   m           4.0      25.000000       0.0\n",
      "2       Tina       Ali  36.0   f           3.0      52.333333       0.0\n",
      "3       Jake    Milner  24.0   m           2.0      62.000000       0.0\n",
      "4        Amy     Cooze  73.0   f           3.0      70.000000       0.0\n"
     ]
    }
   ],
   "source": [
    "# Select the rows of df where age is not NaN and sex is not NaN\n",
    "print(); print(df[df['age'].notnull() & df['sex'].notnull()])\n",
    "print(); print(df[df['age'].notnull() & df['sex'].notnull()].fillna(0))"
   ]
  },
  {
   "cell_type": "code",
   "execution_count": 108,
   "metadata": {},
   "outputs": [
    {
     "name": "stdout",
     "output_type": "stream",
     "text": [
      "\n",
      "  first_name last_name  age           city\n",
      "0      Jason    Miller   42  San Francisco\n",
      "1      Molly  Jacobson   52      Baltimore\n",
      "2       Tina       Ali   36          Miami\n",
      "3       Jake    Milner   24        Douglas\n",
      "4        Amy     Cooze   73         Boston\n",
      "\n",
      "{'San Francisco': 'California', 'Baltimore': 'Maryland', 'Miami': 'Florida', 'Douglas': 'Arizona', 'Boston': 'Massachusetts'}\n",
      "\n",
      "  first_name last_name  age           city          state\n",
      "0      Jason    Miller   42  San Francisco     California\n",
      "1      Molly  Jacobson   52      Baltimore       Maryland\n",
      "2       Tina       Ali   36          Miami        Florida\n",
      "3       Jake    Milner   24        Douglas        Arizona\n",
      "4        Amy     Cooze   73         Boston  Massachusetts\n"
     ]
    }
   ],
   "source": [
    "#How to map values in a Pandas DataFrame\n",
    "# Create dataframe\n",
    "raw_data = {'first_name': ['Jason', 'Molly', 'Tina', 'Jake', 'Amy'],\n",
    "            'last_name': ['Miller', 'Jacobson', 'Ali', 'Milner', 'Cooze'],\n",
    "            'age': [42, 52, 36, 24, 73],\n",
    "            'city': ['San Francisco', 'Baltimore', 'Miami', 'Douglas', 'Boston']}\n",
    "df = pd.DataFrame(raw_data)\n",
    "print(); print(df)\n",
    "\n",
    "# Create a dictionary of values\n",
    "city_to_state = {'San Francisco' : 'California',\n",
    "                 'Baltimore' : 'Maryland',\n",
    "                 'Miami' : 'Florida',\n",
    "                 'Douglas' : 'Arizona',\n",
    "                 'Boston' : 'Massachusetts'}\n",
    "print(); print(city_to_state)\n",
    "# Map the values of the city_to_state dictionary to the values in the city variable\n",
    "df['state'] = df['city'].map(city_to_state)\n",
    "print(); print(df)"
   ]
  },
  {
   "cell_type": "code",
   "execution_count": 111,
   "metadata": {},
   "outputs": [
    {
     "name": "stdout",
     "output_type": "stream",
     "text": [
      "\n",
      "             name  year  reports\n",
      "Cochice     Jason  2012        4\n",
      "Pima        Molly  2012       24\n",
      "Santa Cruz   Tina  2013       31\n",
      "Maricopa     Tina  2014        2\n",
      "Yuma          Amy  2014        3\n",
      "\n",
      "['Jason' 'Molly' 'Tina' 'Amy']\n"
     ]
    }
   ],
   "source": [
    "# How to list unique values in a Pandas DataFrame\n",
    "# Create an example dataframe\n",
    "data = {'name': ['Jason', 'Molly', 'Tina', 'Tina', 'Amy'],\n",
    "        'year': [2012, 2012, 2013, 2014, 2014],\n",
    "        'reports': [4, 24, 31, 2, 3]}\n",
    "df = pd.DataFrame(data, index = ['Cochice', 'Pima', 'Santa Cruz',\n",
    "                                 'Maricopa', 'Yuma'])\n",
    "print(); print(df)\n",
    "# List unique values in the df['name'] column\n",
    "print(); print(df.name.unique())\n"
   ]
  },
  {
   "cell_type": "code",
   "execution_count": 115,
   "metadata": {},
   "outputs": [
    {
     "name": "stdout",
     "output_type": "stream",
     "text": [
      "\n",
      "  subject_id first_name last_name\n",
      "0          1       Alex  Anderson\n",
      "1          2        Amy  Ackerman\n",
      "2          3      Allen       Ali\n",
      "3          4      Alice      Aoni\n",
      "4          5     Ayoung   Atiches\n",
      "\n",
      "  subject_id first_name last_name\n",
      "0          4      Billy    Bonder\n",
      "1          5      Brian     Black\n",
      "2          6       Bran   Balwner\n",
      "3          7      Bryce     Brice\n",
      "4          8      Betty    Btisan\n"
     ]
    }
   ],
   "source": [
    "# How to JOIN and MERGE Pandas DataFrame\n",
    "# Create a dataframe\n",
    "raw_data = {'subject_id': ['1', '2', '3', '4', '5'],\n",
    "            'first_name': ['Alex', 'Amy', 'Allen', 'Alice', 'Ayoung'],\n",
    "            'last_name': ['Anderson', 'Ackerman', 'Ali', 'Aoni', 'Atiches']}\n",
    "df_a = pd.DataFrame(raw_data)\n",
    "print(); print(df_a)\n",
    "\n",
    "# Create a second dataframe\n",
    "raw_data = {'subject_id': ['4', '5', '6', '7', '8'],\n",
    "            'first_name': ['Billy', 'Brian', 'Bran', 'Bryce', 'Betty'],\n",
    "            'last_name': ['Bonder', 'Black', 'Balwner', 'Brice', 'Btisan']}\n",
    "df_b = pd.DataFrame(raw_data)\n",
    "print(); print(df_b)\n"
   ]
  },
  {
   "cell_type": "code",
   "execution_count": 116,
   "metadata": {},
   "outputs": [
    {
     "name": "stdout",
     "output_type": "stream",
     "text": [
      "\n",
      "  subject_id  test_id\n",
      "0          1       51\n",
      "1          2       15\n",
      "2          3       15\n",
      "3          4       61\n",
      "4          5       16\n",
      "5          7       14\n",
      "6          8       15\n",
      "7          9        1\n",
      "8         10       61\n",
      "9         11       16\n"
     ]
    }
   ],
   "source": [
    "#Create a third dataframe\n",
    "raw_data = {'subject_id': ['1', '2', '3', '4', '5', '7', '8', '9', '10', '11'],\n",
    "            'test_id': [51, 15, 15, 61, 16, 14, 15, 1, 61, 16]}\n",
    "df_n = pd.DataFrame(raw_data)\n",
    "print(); print(df_n)"
   ]
  },
  {
   "cell_type": "code",
   "execution_count": 119,
   "metadata": {},
   "outputs": [
    {
     "name": "stdout",
     "output_type": "stream",
     "text": [
      "\n",
      "  subject_id first_name last_name\n",
      "0          1       Alex  Anderson\n",
      "1          2        Amy  Ackerman\n",
      "2          3      Allen       Ali\n",
      "3          4      Alice      Aoni\n",
      "4          5     Ayoung   Atiches\n",
      "0          4      Billy    Bonder\n",
      "1          5      Brian     Black\n",
      "2          6       Bran   Balwner\n",
      "3          7      Bryce     Brice\n",
      "4          8      Betty    Btisan\n"
     ]
    }
   ],
   "source": [
    "# Join the two dataframes along rows\n",
    "df_new = pd.concat([df_a, df_b])\n",
    "print(); print(df_new)"
   ]
  },
  {
   "cell_type": "code",
   "execution_count": 123,
   "metadata": {},
   "outputs": [
    {
     "name": "stdout",
     "output_type": "stream",
     "text": [
      "\n",
      "  subject_id first_name last_name\n",
      "0          1       Alex  Anderson\n",
      "1          2        Amy  Ackerman\n",
      "2          3      Allen       Ali\n",
      "3          4      Alice      Aoni\n",
      "4          5     Ayoung   Atiches\n",
      "0          4      Billy    Bonder\n",
      "1          5      Brian     Black\n",
      "2          6       Bran   Balwner\n",
      "3          7      Bryce     Brice\n",
      "4          8      Betty    Btisan\n"
     ]
    }
   ],
   "source": [
    "# Join the two dataframes along columns\n",
    "df = pd.concat([df_a, df_b], axis=0)\n",
    "print(); print(df)"
   ]
  },
  {
   "cell_type": "code",
   "execution_count": 124,
   "metadata": {},
   "outputs": [
    {
     "data": {
      "text/html": [
       "<div>\n",
       "<style scoped>\n",
       "    .dataframe tbody tr th:only-of-type {\n",
       "        vertical-align: middle;\n",
       "    }\n",
       "\n",
       "    .dataframe tbody tr th {\n",
       "        vertical-align: top;\n",
       "    }\n",
       "\n",
       "    .dataframe thead th {\n",
       "        text-align: right;\n",
       "    }\n",
       "</style>\n",
       "<table border=\"1\" class=\"dataframe\">\n",
       "  <thead>\n",
       "    <tr style=\"text-align: right;\">\n",
       "      <th></th>\n",
       "      <th>subject_id</th>\n",
       "      <th>first_name</th>\n",
       "      <th>last_name</th>\n",
       "    </tr>\n",
       "  </thead>\n",
       "  <tbody>\n",
       "    <tr>\n",
       "      <th>0</th>\n",
       "      <td>1</td>\n",
       "      <td>Alex</td>\n",
       "      <td>Anderson</td>\n",
       "    </tr>\n",
       "    <tr>\n",
       "      <th>1</th>\n",
       "      <td>2</td>\n",
       "      <td>Amy</td>\n",
       "      <td>Ackerman</td>\n",
       "    </tr>\n",
       "    <tr>\n",
       "      <th>2</th>\n",
       "      <td>3</td>\n",
       "      <td>Allen</td>\n",
       "      <td>Ali</td>\n",
       "    </tr>\n",
       "    <tr>\n",
       "      <th>3</th>\n",
       "      <td>4</td>\n",
       "      <td>Alice</td>\n",
       "      <td>Aoni</td>\n",
       "    </tr>\n",
       "    <tr>\n",
       "      <th>4</th>\n",
       "      <td>5</td>\n",
       "      <td>Ayoung</td>\n",
       "      <td>Atiches</td>\n",
       "    </tr>\n",
       "    <tr>\n",
       "      <th>0</th>\n",
       "      <td>4</td>\n",
       "      <td>Billy</td>\n",
       "      <td>Bonder</td>\n",
       "    </tr>\n",
       "    <tr>\n",
       "      <th>1</th>\n",
       "      <td>5</td>\n",
       "      <td>Brian</td>\n",
       "      <td>Black</td>\n",
       "    </tr>\n",
       "    <tr>\n",
       "      <th>2</th>\n",
       "      <td>6</td>\n",
       "      <td>Bran</td>\n",
       "      <td>Balwner</td>\n",
       "    </tr>\n",
       "    <tr>\n",
       "      <th>3</th>\n",
       "      <td>7</td>\n",
       "      <td>Bryce</td>\n",
       "      <td>Brice</td>\n",
       "    </tr>\n",
       "    <tr>\n",
       "      <th>4</th>\n",
       "      <td>8</td>\n",
       "      <td>Betty</td>\n",
       "      <td>Btisan</td>\n",
       "    </tr>\n",
       "  </tbody>\n",
       "</table>\n",
       "</div>"
      ],
      "text/plain": [
       "  subject_id first_name last_name\n",
       "0          1       Alex  Anderson\n",
       "1          2        Amy  Ackerman\n",
       "2          3      Allen       Ali\n",
       "3          4      Alice      Aoni\n",
       "4          5     Ayoung   Atiches\n",
       "0          4      Billy    Bonder\n",
       "1          5      Brian     Black\n",
       "2          6       Bran   Balwner\n",
       "3          7      Bryce     Brice\n",
       "4          8      Betty    Btisan"
      ]
     },
     "execution_count": 124,
     "metadata": {},
     "output_type": "execute_result"
    }
   ],
   "source": [
    "df"
   ]
  },
  {
   "cell_type": "code",
   "execution_count": 127,
   "metadata": {},
   "outputs": [
    {
     "name": "stdout",
     "output_type": "stream",
     "text": [
      "  subject_id first_name last_name\n",
      "0          1       Alex  Anderson\n",
      "1          2        Amy  Ackerman\n",
      "2          3      Allen       Ali\n",
      "3          4      Alice      Aoni\n",
      "4          5     Ayoung   Atiches\n",
      "  subject_id first_name last_name\n",
      "0          4      Billy    Bonder\n",
      "1          5      Brian     Black\n",
      "2          6       Bran   Balwner\n",
      "3          7      Bryce     Brice\n",
      "4          8      Betty    Btisan\n",
      "\n",
      "  subject_id first_name_x last_name_x first_name_y last_name_y\n",
      "0          1         Alex    Anderson          NaN         NaN\n",
      "1          2          Amy    Ackerman          NaN         NaN\n",
      "2          3        Allen         Ali          NaN         NaN\n",
      "3          4        Alice        Aoni        Billy      Bonder\n",
      "4          5       Ayoung     Atiches        Brian       Black\n",
      "5          6          NaN         NaN         Bran     Balwner\n",
      "6          7          NaN         NaN        Bryce       Brice\n",
      "7          8          NaN         NaN        Betty      Btisan\n"
     ]
    }
   ],
   "source": [
    " # Merge with outer join\n",
    "df = pd.merge(df_a, df_b, on='subject_id', how='outer')\n",
    "print(df_a)\n",
    "print(df_b)\n",
    "print(); print(df)"
   ]
  },
  {
   "cell_type": "code",
   "execution_count": 126,
   "metadata": {},
   "outputs": [
    {
     "name": "stdout",
     "output_type": "stream",
     "text": [
      "\n",
      "  subject_id first_name_x last_name_x first_name_y last_name_y\n",
      "0          4        Alice        Aoni        Billy      Bonder\n",
      "1          5       Ayoung     Atiches        Brian       Black\n"
     ]
    }
   ],
   "source": [
    "# Merge with inner join\n",
    "df = pd.merge(df_a, df_b, on='subject_id', how='inner')\n",
    "print(); print(df)"
   ]
  },
  {
   "cell_type": "code",
   "execution_count": 129,
   "metadata": {},
   "outputs": [
    {
     "name": "stdout",
     "output_type": "stream",
     "text": [
      "\n",
      "  subject_id first_name_x last_name_x first_name_y last_name_y\n",
      "0          4        Alice        Aoni        Billy      Bonder\n",
      "1          5       Ayoung     Atiches        Brian       Black\n",
      "2          6          NaN         NaN         Bran     Balwner\n",
      "3          7          NaN         NaN        Bryce       Brice\n",
      "4          8          NaN         NaN        Betty      Btisan\n",
      "\n",
      "  subject_id first_name_x last_name_x first_name_y last_name_y\n",
      "0          1         Alex    Anderson          NaN         NaN\n",
      "1          2          Amy    Ackerman          NaN         NaN\n",
      "2          3        Allen         Ali          NaN         NaN\n",
      "3          4        Alice        Aoni        Billy      Bonder\n",
      "4          5       Ayoung     Atiches        Brian       Black\n",
      "\n",
      "  subject_id first_name_left last_name_left first_name_right last_name_right\n",
      "0          1            Alex       Anderson              NaN             NaN\n",
      "1          2             Amy       Ackerman              NaN             NaN\n",
      "2          3           Allen            Ali              NaN             NaN\n",
      "3          4           Alice           Aoni            Billy          Bonder\n",
      "4          5          Ayoung        Atiches            Brian           Black\n",
      "\n",
      "  subject_id_x first_name_x last_name_x subject_id_y first_name_y last_name_y\n",
      "0            1         Alex    Anderson            4        Billy      Bonder\n",
      "1            2          Amy    Ackerman            5        Brian       Black\n",
      "2            3        Allen         Ali            6         Bran     Balwner\n",
      "3            4        Alice        Aoni            7        Bryce       Brice\n",
      "4            5       Ayoung     Atiches            8        Betty      Btisan\n"
     ]
    }
   ],
   "source": [
    "# Merge with right join\n",
    "df = pd.merge(df_a, df_b, on='subject_id', how='right')\n",
    "print(); print(df)\n",
    "\n",
    "# Merge with left join\n",
    "df = pd.merge(df_a, df_b, on='subject_id', how='left')\n",
    "print(); print(df)\n",
    "\n",
    "# Merge while adding a suffix to duplicate column names\n",
    "df = pd.merge(df_a, df_b, on='subject_id', how='left', suffixes=('_left', '_right'))\n",
    "print(); print(df)\n",
    "\n",
    "# Merge based on indexes\n",
    "df = pd.merge(df_a, df_b, right_index=True, left_index=True)\n",
    "print(); print(df)\n"
   ]
  },
  {
   "cell_type": "code",
   "execution_count": 131,
   "metadata": {},
   "outputs": [
    {
     "name": "stdout",
     "output_type": "stream",
     "text": [
      "\n",
      "      regiment company      name  preTestScore  postTestScore\n",
      "0   Nighthawks     1st    Miller             4             25\n",
      "1   Nighthawks     1st  Jacobson            24             94\n",
      "2   Nighthawks     2nd      Bali            31             57\n",
      "3   Nighthawks     2nd    Milner             2             62\n",
      "4     Dragoons     1st     Cooze             3             70\n",
      "5     Dragoons     1st     Jacon             4             25\n",
      "6     Dragoons     2nd    Ryaner            24             94\n",
      "7     Dragoons     2nd      Sone            31             57\n",
      "8       Scouts     1st     Sloan             2             62\n",
      "9       Scouts     1st     Piger             3             70\n",
      "10      Scouts     2nd     Riani             2             62\n",
      "11      Scouts     2nd       Ali             3             70\n"
     ]
    }
   ],
   "source": [
    "#How to present Hierarchical Data in Pandas\n",
    "# Create dataframe\n",
    "raw_data = {'regiment': ['Nighthawks', 'Nighthawks', 'Nighthawks', 'Nighthawks',\n",
    "                         'Dragoons', 'Dragoons', 'Dragoons', 'Dragoons', 'Scouts',\n",
    "                         'Scouts', 'Scouts', 'Scouts'],\n",
    "            'company': ['1st', '1st', '2nd', '2nd', '1st', '1st', '2nd',\n",
    "                        '2nd','1st', '1st', '2nd', '2nd'],\n",
    "            'name': ['Miller', 'Jacobson', 'Bali', 'Milner', 'Cooze', 'Jacon',\n",
    "                     'Ryaner', 'Sone', 'Sloan', 'Piger', 'Riani', 'Ali'],\n",
    "            'preTestScore': [4, 24, 31, 2, 3, 4, 24, 31, 2, 3, 2, 3],\n",
    "            'postTestScore': [25, 94, 57, 62, 70, 25, 94, 57, 62, 70, 62, 70]}\n",
    "df = pd.DataFrame(raw_data, columns = ['regiment', 'company', 'name',\n",
    "                                       'preTestScore', 'postTestScore'])\n",
    "print(); print(df)"
   ]
  },
  {
   "cell_type": "code",
   "execution_count": 132,
   "metadata": {},
   "outputs": [
    {
     "name": "stdout",
     "output_type": "stream",
     "text": [
      "\n",
      "      regiment company      name  preTestScore  postTestScore\n",
      "0   Nighthawks     1st    Miller             4             25\n",
      "1   Nighthawks     1st  Jacobson            24             94\n",
      "2   Nighthawks     2nd      Bali            31             57\n",
      "3   Nighthawks     2nd    Milner             2             62\n",
      "4     Dragoons     1st     Cooze             3             70\n",
      "5     Dragoons     1st     Jacon             4             25\n",
      "6     Dragoons     2nd    Ryaner            24             94\n",
      "7     Dragoons     2nd      Sone            31             57\n",
      "8       Scouts     1st     Sloan             2             62\n",
      "9       Scouts     1st     Piger             3             70\n",
      "10      Scouts     2nd     Riani             2             62\n",
      "11      Scouts     2nd       Ali             3             70\n"
     ]
    }
   ],
   "source": [
    "# Set the hierarchical index but leave the columns inplace\n",
    "df.set_index(['regiment', 'company'], drop=False)\n",
    "print(); print(df)"
   ]
  },
  {
   "cell_type": "code",
   "execution_count": 133,
   "metadata": {},
   "outputs": [
    {
     "name": "stdout",
     "output_type": "stream",
     "text": [
      "\n",
      "                        name  preTestScore  postTestScore\n",
      "regiment   company                                       \n",
      "Nighthawks 1st        Miller             4             25\n",
      "           1st      Jacobson            24             94\n",
      "           2nd          Bali            31             57\n",
      "           2nd        Milner             2             62\n",
      "Dragoons   1st         Cooze             3             70\n",
      "           1st         Jacon             4             25\n",
      "           2nd        Ryaner            24             94\n",
      "           2nd          Sone            31             57\n",
      "Scouts     1st         Sloan             2             62\n",
      "           1st         Piger             3             70\n",
      "           2nd         Riani             2             62\n",
      "           2nd           Ali             3             70\n"
     ]
    }
   ],
   "source": [
    "# Set the hierarchical index to be by regiment, and then by company\n",
    "df = df.set_index(['regiment', 'company'])\n",
    "print(); print(df)\n"
   ]
  },
  {
   "cell_type": "code",
   "execution_count": null,
   "metadata": {},
   "outputs": [],
   "source": []
  }
 ],
 "metadata": {
  "kernelspec": {
   "display_name": "Python 3",
   "language": "python",
   "name": "python3"
  },
  "language_info": {
   "codemirror_mode": {
    "name": "ipython",
    "version": 3
   },
   "file_extension": ".py",
   "mimetype": "text/x-python",
   "name": "python",
   "nbconvert_exporter": "python",
   "pygments_lexer": "ipython3",
   "version": "3.7.3"
  }
 },
 "nbformat": 4,
 "nbformat_minor": 2
}
