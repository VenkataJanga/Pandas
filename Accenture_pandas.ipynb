{
 "cells": [
  {
   "cell_type": "code",
   "execution_count": 2,
   "metadata": {},
   "outputs": [
    {
     "name": "stdout",
     "output_type": "stream",
     "text": [
      "\n",
      "0     5\n",
      "1     6\n",
      "2     2\n",
      "3     9\n",
      "4    12\n",
      "dtype: int64\n",
      "\n",
      "Cochise County        5\n",
      "Pima County           6\n",
      "Santa Cruz County     2\n",
      "Maricopa County       9\n",
      "Yuma County          12\n",
      "dtype: int64\n"
     ]
    }
   ],
   "source": [
    "import pandas as pd\n",
    "\n",
    "# Series are one-dimensional arrays (like R’s vectors)\n",
    "# Create a series of the number of floodingReports\n",
    "floodingReports = pd.Series([5, 6, 2, 9, 12])\n",
    "print(); print(floodingReports)\n",
    "\n",
    "# Set county names to be the index of the floodingReports series\n",
    "floodingReports = pd.Series([5, 6, 2, 9, 12], index=['Cochise County', 'Pima County',\n",
    "                            'Santa Cruz County', 'Maricopa County', 'Yuma County'])\n",
    "print(); print(floodingReports)"
   ]
  },
  {
   "cell_type": "code",
   "execution_count": 3,
   "metadata": {},
   "outputs": [
    {
     "name": "stdout",
     "output_type": "stream",
     "text": [
      "\n",
      "5\n"
     ]
    }
   ],
   "source": [
    "# View the number of floodingReports in Cochise County\n",
    "print(); print(floodingReports['Cochise County'])"
   ]
  },
  {
   "cell_type": "code",
   "execution_count": 6,
   "metadata": {},
   "outputs": [
    {
     "name": "stdout",
     "output_type": "stream",
     "text": [
      "\n",
      "Maricopa County     9\n",
      "Yuma County        12\n",
      "dtype: int64\n"
     ]
    }
   ],
   "source": [
    "# View the counties with more than 6 flooding reports\n",
    "print(); print(floodingReports[floodingReports >6])"
   ]
  },
  {
   "cell_type": "code",
   "execution_count": 13,
   "metadata": {},
   "outputs": [
    {
     "name": "stdout",
     "output_type": "stream",
     "text": [
      "\n",
      "Cochise County        12\n",
      "Pima County          342\n",
      "Santa Cruz County     13\n",
      "Maricopa County       42\n",
      "Yuma County           52\n",
      "dtype: int64\n"
     ]
    }
   ],
   "source": [
    "# Create a pandas series from a dictionary\n",
    "fireReports_dict = {'Cochise County': 12, 'Pima County': 342,\n",
    "                    'Santa Cruz County': 13, 'Maricopa County': 42,\n",
    "                    'Yuma County' : 52}\n",
    "\n",
    "# Convert the dictionary into a pd.Series, and view it\n",
    "fireReports = pd.Series(fireReports_dict)\n",
    "print();print(fireReports)"
   ]
  },
  {
   "cell_type": "code",
   "execution_count": 14,
   "metadata": {},
   "outputs": [],
   "source": [
    "# Change the index of a series to shorter names\n",
    "fireReports.index = [\"Cochice\", \"Pima\", \"Santa Cruz\", \"Maricopa\", \"Yuma\"]"
   ]
  },
  {
   "cell_type": "code",
   "execution_count": 15,
   "metadata": {},
   "outputs": [
    {
     "name": "stdout",
     "output_type": "stream",
     "text": [
      "\n",
      "Cochice        12\n",
      "Pima          342\n",
      "Santa Cruz     13\n",
      "Maricopa       42\n",
      "Yuma           52\n",
      "dtype: int64\n"
     ]
    }
   ],
   "source": [
    "print();print(fireReports)"
   ]
  },
  {
   "cell_type": "code",
   "execution_count": 24,
   "metadata": {},
   "outputs": [
    {
     "name": "stdout",
     "output_type": "stream",
     "text": [
      "\n",
      "       county  year  reports\n",
      "0     Cochice  2012        4\n",
      "1        Pima  2012       24\n",
      "2  Santa Cruz  2013       31\n",
      "3    Maricopa  2014        2\n",
      "4        Yuma  2014        3\n",
      "\n",
      "   reports  year      county\n",
      "0        4  2012     Cochice\n",
      "1       24  2012        Pima\n",
      "2       31  2013  Santa Cruz\n",
      "3        2  2014    Maricopa\n",
      "4        3  2014        Yuma\n"
     ]
    }
   ],
   "source": [
    "# DataFrames are like R’s Dataframes\n",
    "# Create a dataframe from a dict of equal length lists or numpy arrays\n",
    "data = {'county': ['Cochice', 'Pima', 'Santa Cruz', 'Maricopa', 'Yuma'],\n",
    "        'year': [2012, 2012, 2013, 2014, 2014],\n",
    "        'reports': [4, 24, 31, 2, 3]}\n",
    "df = pd.DataFrame(data)\n",
    "print(); print(df)\n",
    "\n",
    "# Set the order of the columns using the columns attribute\n",
    "df = pd.DataFrame(data,columns=['reports','year','county'])\n",
    "print(); print(df)\n"
   ]
  },
  {
   "cell_type": "code",
   "execution_count": 27,
   "metadata": {},
   "outputs": [
    {
     "name": "stdout",
     "output_type": "stream",
     "text": [
      "\n",
      "   reports  year      county  New Column\n",
      "0        4  2012     Cochice           5\n",
      "1       24  2012        Pima          10\n",
      "2       31  2013  Santa Cruz          15\n",
      "3        2  2014    Maricopa          20\n",
      "4        3  2014        Yuma          25\n"
     ]
    }
   ],
   "source": [
    "# Add a column\n",
    "df['New Column'] = pd.Series([5,10,15,20,25])\n",
    "print(); print(df)"
   ]
  },
  {
   "cell_type": "code",
   "execution_count": 28,
   "metadata": {},
   "outputs": [
    {
     "name": "stdout",
     "output_type": "stream",
     "text": [
      "\n",
      "   reports  year      county\n",
      "0        4  2012     Cochice\n",
      "1       24  2012        Pima\n",
      "2       31  2013  Santa Cruz\n",
      "3        2  2014    Maricopa\n",
      "4        3  2014        Yuma\n"
     ]
    }
   ],
   "source": [
    "# Delete a column\n",
    "del df['New Column']\n",
    "print(); print(df)"
   ]
  },
  {
   "cell_type": "code",
   "execution_count": 32,
   "metadata": {},
   "outputs": [
    {
     "name": "stdout",
     "output_type": "stream",
     "text": [
      "\n",
      "               0     1           2         3     4\n",
      "reports        4    24          31         2     3\n",
      "year        2012  2012        2013      2014  2014\n",
      "county   Cochice  Pima  Santa Cruz  Maricopa  Yuma\n"
     ]
    }
   ],
   "source": [
    "# Transpose the dataframe\n",
    "print(); print(df.T)"
   ]
  },
  {
   "cell_type": "code",
   "execution_count": 33,
   "metadata": {},
   "outputs": [
    {
     "name": "stdout",
     "output_type": "stream",
     "text": [
      "\n",
      "   reports  year      county\n",
      "0        4  2012     Cochice\n",
      "1       24  2012        Pima\n",
      "2       31  2013  Santa Cruz\n",
      "3        2  2014    Maricopa\n",
      "4        3  2014        Yuma\n"
     ]
    }
   ],
   "source": [
    "print(); print(df)"
   ]
  },
  {
   "cell_type": "code",
   "execution_count": 36,
   "metadata": {},
   "outputs": [
    {
     "name": "stdout",
     "output_type": "stream",
     "text": [
      "\n",
      "   student_name  test_score\n",
      "0        Miller        76.0\n",
      "1      Jacobson        88.0\n",
      "2          Bali        84.0\n",
      "3        Milner        67.0\n",
      "4         Cooze        53.0\n",
      "5         Jacon        96.0\n",
      "6        Ryaner        64.0\n",
      "7          Sone        91.0\n",
      "8         Sloan        77.0\n",
      "9         Piger        73.0\n",
      "10        Riani        52.0\n",
      "11          Ali         NaN\n"
     ]
    }
   ],
   "source": [
    "## How to insert a new column based on condition in Python\n",
    "# load libraries\n",
    "import pandas as pd\n",
    "import numpy as np\n",
    "# Create an example dataframe\n",
    "raw_data = {'student_name': ['Miller', 'Jacobson', 'Bali', 'Milner', 'Cooze', 'Jacon', 'Ryaner', 'Sone', 'Sloan', 'Piger', 'Riani', 'Ali'],\n",
    "            'test_score': [76, 88, 84, 67, 53, 96, 64, 91, 77, 73, 52, np.NaN]}\n",
    "df = pd.DataFrame(raw_data, columns = ['student_name', 'test_score'])\n",
    "print(); print(df)"
   ]
  },
  {
   "cell_type": "code",
   "execution_count": 37,
   "metadata": {},
   "outputs": [
    {
     "name": "stdout",
     "output_type": "stream",
     "text": [
      "\n",
      "   student_name  test_score  grades\n",
      "0        Miller        76.0       C\n",
      "1      Jacobson        88.0       B\n",
      "2          Bali        84.0      B-\n",
      "3        Milner        67.0       D\n",
      "4         Cooze        53.0  Failed\n",
      "5         Jacon        96.0       A\n",
      "6        Ryaner        64.0      D-\n",
      "7          Sone        91.0      A-\n",
      "8         Sloan        77.0       C\n",
      "9         Piger        73.0      C-\n",
      "10        Riani        52.0  Failed\n",
      "11          Ali         NaN  Failed\n"
     ]
    }
   ],
   "source": [
    "# Create a function to assign letter grades\n",
    "grades = []\n",
    "for row in df['test_score']:\n",
    "    if row > 95:    grades.append('A')\n",
    "    elif row > 90:  grades.append('A-')\n",
    "    elif row > 85:  grades.append('B')\n",
    "    elif row > 80:  grades.append('B-')\n",
    "    elif row > 75:  grades.append('C')\n",
    "    elif row > 70:  grades.append('C-')\n",
    "    elif row > 65:  grades.append('D')\n",
    "    elif row > 60:  grades.append('D-')\n",
    "    else:           grades.append('Failed')\n",
    "# Create a column from the list\n",
    "df['grades'] = grades\n",
    "print(); print(df)"
   ]
  },
  {
   "cell_type": "code",
   "execution_count": 41,
   "metadata": {},
   "outputs": [
    {
     "name": "stdout",
     "output_type": "stream",
     "text": [
      "\n",
      "             name  year  reports  coverage\n",
      "Cochice     Jason  2012        1         2\n",
      "Pima        Molly  2012        2         2\n",
      "Santa Cruz   Tina  2013        1         3\n",
      "Maricopa     Jake  2014        2         3\n",
      "Yuma          Amy  2014        3         3\n",
      "\n",
      "             name  year  reports  coverage\n",
      "Yuma          Amy  2014        3         3\n",
      "Pima        Molly  2012        2         2\n",
      "Maricopa     Jake  2014        2         3\n",
      "Cochice     Jason  2012        1         2\n",
      "Santa Cruz   Tina  2013        1         3\n"
     ]
    }
   ],
   "source": [
    "## How to sort rows within a Pandas DataFrame\n",
    "# load libraries\n",
    "import pandas as pd\n",
    "\n",
    "# Create dataframe\n",
    "data = {'name': ['Jason', 'Molly', 'Tina', 'Jake', 'Amy'],\n",
    "        'year': [2012, 2012, 2013, 2014, 2014],\n",
    "        'reports': [1, 2, 1, 2, 3],\n",
    "        'coverage': [2, 2, 3, 3, 3]}\n",
    "\n",
    "df = pd.DataFrame(data, index = ['Cochice', 'Pima', 'Santa Cruz', 'Maricopa', 'Yuma'])\n",
    "print(); print(df)\n",
    "\n",
    "# Sort the dataframe’s rows by reports, in descending order\n",
    "print(); print(df.sort_values(by = 'reports',ascending=False))"
   ]
  },
  {
   "cell_type": "code",
   "execution_count": 42,
   "metadata": {},
   "outputs": [
    {
     "name": "stdout",
     "output_type": "stream",
     "text": [
      "\n",
      "             name  year  reports  coverage\n",
      "Cochice     Jason  2012        1         2\n",
      "Santa Cruz   Tina  2013        1         3\n",
      "Pima        Molly  2012        2         2\n",
      "Maricopa     Jake  2014        2         3\n",
      "Yuma          Amy  2014        3         3\n"
     ]
    }
   ],
   "source": [
    "# Sort the dataframe’s rows by reports, in descending order\n",
    "print();print(df.sort_values(by = 'reports',ascending=True))"
   ]
  },
  {
   "cell_type": "code",
   "execution_count": 48,
   "metadata": {},
   "outputs": [
    {
     "name": "stdout",
     "output_type": "stream",
     "text": [
      "\n",
      "             name  year  reports  coverage\n",
      "Cochice     Jason  2012        1         2\n",
      "Pima        Molly  2012        2         2\n",
      "Santa Cruz   Tina  2013        1         3\n",
      "Maricopa     Jake  2014        2         3\n",
      "Yuma          Amy  2014        3         3\n",
      "\n",
      "             name  year  reports  coverage\n",
      "Cochice     Jason  2012        1         2\n",
      "Pima        Molly  2012        2         2\n",
      "Santa Cruz   Tina  2013        1         3\n",
      "Maricopa     Jake  2014        2         3\n",
      "Yuma          Amy  2014        3         3\n"
     ]
    }
   ],
   "source": [
    "# Sort the dataframe’s rows by coverage and then by reports, in ascending order\n",
    "print();print(df)\n",
    "\n",
    "print();print(df.sort_values(by = ['coverage','reports'],ascending =True))"
   ]
  },
  {
   "cell_type": "code",
   "execution_count": 50,
   "metadata": {},
   "outputs": [
    {
     "name": "stdout",
     "output_type": "stream",
     "text": [
      "\n",
      "             name  year  reports  coverage\n",
      "Cochice     Jason  2012        4        25\n",
      "Pima        Molly  2012       24        94\n",
      "Santa Cruz   Tina  2013       31        57\n",
      "Maricopa     Jake  2014        2        62\n",
      "Yuma          Amy  2014        3        70\n"
     ]
    }
   ],
   "source": [
    "# load libraries\n",
    "import pandas as pd\n",
    "\n",
    "# Create dataframe\n",
    "data = {'name': ['Jason', 'Molly', 'Tina', 'Jake', 'Amy'],\n",
    "        'year': [2012, 2012, 2013, 2014, 2014],\n",
    "        'reports': [4, 24, 31, 2, 3],\n",
    "        'coverage': [25, 94, 57, 62, 70]}\n",
    "\n",
    "df = pd.DataFrame(data, index = ['Cochice', 'Pima', 'Santa Cruz', 'Maricopa', 'Yuma'])\n",
    "print(); print(df)\n",
    "\n",
    "# Create a new column that is the rank of the value of coverage in ascending order\n",
    "df['coverageRanked']=df['coverage'].rank(ascending=True)\n",
    "print(); print(df)"
   ]
  },
  {
   "cell_type": "code",
   "execution_count": 2,
   "metadata": {},
   "outputs": [
    {
     "name": "stdout",
     "output_type": "stream",
     "text": [
      "\n",
      "  subject_id first_name last_name\n",
      "0          1       Alex  Anderson\n",
      "1          2        Amy  Ackerman\n",
      "2          3      Allen       Ali\n",
      "3          4      Alice      Aoni\n",
      "4          5     Ayoung   Atiches\n",
      "\n",
      "  subject_id first_name last_name\n",
      "0          4      Billy    Bonder\n",
      "1          5      Brian     Black\n",
      "2          6       Bran   Balwner\n",
      "3          7      Bryce     Brice\n",
      "4          8      Betty    Btisan\n",
      "\n",
      "  subject_id  test_id\n",
      "0          1       51\n",
      "1          2       15\n",
      "2          3       15\n",
      "3          4       61\n",
      "4          5       16\n",
      "5          7       14\n",
      "6          8       15\n",
      "7          9        1\n",
      "8         10       61\n",
      "9         11       16\n"
     ]
    }
   ],
   "source": [
    "## How to JOIN and MERGE Pandas DataFrame\n",
    "# load libraries\n",
    "import pandas as pd\n",
    "\n",
    "# Create a dataframe\n",
    "raw_data = {'subject_id': ['1', '2', '3', '4', '5'],\n",
    "            'first_name': ['Alex', 'Amy', 'Allen', 'Alice', 'Ayoung'],\n",
    "            'last_name': ['Anderson', 'Ackerman', 'Ali', 'Aoni', 'Atiches']}\n",
    "df_a = pd.DataFrame(raw_data, columns = ['subject_id', 'first_name', 'last_name'])\n",
    "print(); print(df_a)\n",
    "\n",
    "# Create a second dataframe\n",
    "raw_data = {'subject_id': ['4', '5', '6', '7', '8'],\n",
    "            'first_name': ['Billy', 'Brian', 'Bran', 'Bryce', 'Betty'],\n",
    "            'last_name': ['Bonder', 'Black', 'Balwner', 'Brice', 'Btisan']}\n",
    "df_b = pd.DataFrame(raw_data, columns = ['subject_id', 'first_name', 'last_name'])\n",
    "print(); print(df_b)\n",
    "\n",
    "# Create a third dataframe\n",
    "raw_data = {'subject_id': ['1', '2', '3', '4', '5', '7', '8', '9', '10', '11'],\n",
    "            'test_id': [51, 15, 15, 61, 16, 14, 15, 1, 61, 16]}\n",
    "df_n = pd.DataFrame(raw_data, columns = ['subject_id','test_id'])\n",
    "print(); print(df_n)\n"
   ]
  },
  {
   "cell_type": "code",
   "execution_count": 6,
   "metadata": {},
   "outputs": [
    {
     "data": {
      "text/html": [
       "<div>\n",
       "<style scoped>\n",
       "    .dataframe tbody tr th:only-of-type {\n",
       "        vertical-align: middle;\n",
       "    }\n",
       "\n",
       "    .dataframe tbody tr th {\n",
       "        vertical-align: top;\n",
       "    }\n",
       "\n",
       "    .dataframe thead th {\n",
       "        text-align: right;\n",
       "    }\n",
       "</style>\n",
       "<table border=\"1\" class=\"dataframe\">\n",
       "  <thead>\n",
       "    <tr style=\"text-align: right;\">\n",
       "      <th></th>\n",
       "      <th>subject_id</th>\n",
       "      <th>first_name</th>\n",
       "      <th>last_name</th>\n",
       "    </tr>\n",
       "  </thead>\n",
       "  <tbody>\n",
       "    <tr>\n",
       "      <th>0</th>\n",
       "      <td>1</td>\n",
       "      <td>Alex</td>\n",
       "      <td>Anderson</td>\n",
       "    </tr>\n",
       "    <tr>\n",
       "      <th>1</th>\n",
       "      <td>2</td>\n",
       "      <td>Amy</td>\n",
       "      <td>Ackerman</td>\n",
       "    </tr>\n",
       "    <tr>\n",
       "      <th>2</th>\n",
       "      <td>3</td>\n",
       "      <td>Allen</td>\n",
       "      <td>Ali</td>\n",
       "    </tr>\n",
       "    <tr>\n",
       "      <th>3</th>\n",
       "      <td>4</td>\n",
       "      <td>Alice</td>\n",
       "      <td>Aoni</td>\n",
       "    </tr>\n",
       "    <tr>\n",
       "      <th>4</th>\n",
       "      <td>5</td>\n",
       "      <td>Ayoung</td>\n",
       "      <td>Atiches</td>\n",
       "    </tr>\n",
       "    <tr>\n",
       "      <th>0</th>\n",
       "      <td>4</td>\n",
       "      <td>Billy</td>\n",
       "      <td>Bonder</td>\n",
       "    </tr>\n",
       "    <tr>\n",
       "      <th>1</th>\n",
       "      <td>5</td>\n",
       "      <td>Brian</td>\n",
       "      <td>Black</td>\n",
       "    </tr>\n",
       "    <tr>\n",
       "      <th>2</th>\n",
       "      <td>6</td>\n",
       "      <td>Bran</td>\n",
       "      <td>Balwner</td>\n",
       "    </tr>\n",
       "    <tr>\n",
       "      <th>3</th>\n",
       "      <td>7</td>\n",
       "      <td>Bryce</td>\n",
       "      <td>Brice</td>\n",
       "    </tr>\n",
       "    <tr>\n",
       "      <th>4</th>\n",
       "      <td>8</td>\n",
       "      <td>Betty</td>\n",
       "      <td>Btisan</td>\n",
       "    </tr>\n",
       "  </tbody>\n",
       "</table>\n",
       "</div>"
      ],
      "text/plain": [
       "  subject_id first_name last_name\n",
       "0          1       Alex  Anderson\n",
       "1          2        Amy  Ackerman\n",
       "2          3      Allen       Ali\n",
       "3          4      Alice      Aoni\n",
       "4          5     Ayoung   Atiches\n",
       "0          4      Billy    Bonder\n",
       "1          5      Brian     Black\n",
       "2          6       Bran   Balwner\n",
       "3          7      Bryce     Brice\n",
       "4          8      Betty    Btisan"
      ]
     },
     "execution_count": 6,
     "metadata": {},
     "output_type": "execute_result"
    }
   ],
   "source": [
    "# Join the two dataframes along rows\n",
    "df_new = pd.concat([df_a,df_b])\n",
    "df_new"
   ]
  },
  {
   "cell_type": "code",
   "execution_count": 7,
   "metadata": {},
   "outputs": [
    {
     "data": {
      "text/html": [
       "<div>\n",
       "<style scoped>\n",
       "    .dataframe tbody tr th:only-of-type {\n",
       "        vertical-align: middle;\n",
       "    }\n",
       "\n",
       "    .dataframe tbody tr th {\n",
       "        vertical-align: top;\n",
       "    }\n",
       "\n",
       "    .dataframe thead th {\n",
       "        text-align: right;\n",
       "    }\n",
       "</style>\n",
       "<table border=\"1\" class=\"dataframe\">\n",
       "  <thead>\n",
       "    <tr style=\"text-align: right;\">\n",
       "      <th></th>\n",
       "      <th>subject_id</th>\n",
       "      <th>first_name</th>\n",
       "      <th>last_name</th>\n",
       "      <th>subject_id</th>\n",
       "      <th>first_name</th>\n",
       "      <th>last_name</th>\n",
       "    </tr>\n",
       "  </thead>\n",
       "  <tbody>\n",
       "    <tr>\n",
       "      <th>0</th>\n",
       "      <td>1</td>\n",
       "      <td>Alex</td>\n",
       "      <td>Anderson</td>\n",
       "      <td>4</td>\n",
       "      <td>Billy</td>\n",
       "      <td>Bonder</td>\n",
       "    </tr>\n",
       "    <tr>\n",
       "      <th>1</th>\n",
       "      <td>2</td>\n",
       "      <td>Amy</td>\n",
       "      <td>Ackerman</td>\n",
       "      <td>5</td>\n",
       "      <td>Brian</td>\n",
       "      <td>Black</td>\n",
       "    </tr>\n",
       "    <tr>\n",
       "      <th>2</th>\n",
       "      <td>3</td>\n",
       "      <td>Allen</td>\n",
       "      <td>Ali</td>\n",
       "      <td>6</td>\n",
       "      <td>Bran</td>\n",
       "      <td>Balwner</td>\n",
       "    </tr>\n",
       "    <tr>\n",
       "      <th>3</th>\n",
       "      <td>4</td>\n",
       "      <td>Alice</td>\n",
       "      <td>Aoni</td>\n",
       "      <td>7</td>\n",
       "      <td>Bryce</td>\n",
       "      <td>Brice</td>\n",
       "    </tr>\n",
       "    <tr>\n",
       "      <th>4</th>\n",
       "      <td>5</td>\n",
       "      <td>Ayoung</td>\n",
       "      <td>Atiches</td>\n",
       "      <td>8</td>\n",
       "      <td>Betty</td>\n",
       "      <td>Btisan</td>\n",
       "    </tr>\n",
       "  </tbody>\n",
       "</table>\n",
       "</div>"
      ],
      "text/plain": [
       "  subject_id first_name last_name subject_id first_name last_name\n",
       "0          1       Alex  Anderson          4      Billy    Bonder\n",
       "1          2        Amy  Ackerman          5      Brian     Black\n",
       "2          3      Allen       Ali          6       Bran   Balwner\n",
       "3          4      Alice      Aoni          7      Bryce     Brice\n",
       "4          5     Ayoung   Atiches          8      Betty    Btisan"
      ]
     },
     "execution_count": 7,
     "metadata": {},
     "output_type": "execute_result"
    }
   ],
   "source": [
    "df_new1 = pd.concat([df_a,df_b],axis=1)\n",
    "df_new1"
   ]
  },
  {
   "cell_type": "code",
   "execution_count": 10,
   "metadata": {},
   "outputs": [
    {
     "data": {
      "text/html": [
       "<div>\n",
       "<style scoped>\n",
       "    .dataframe tbody tr th:only-of-type {\n",
       "        vertical-align: middle;\n",
       "    }\n",
       "\n",
       "    .dataframe tbody tr th {\n",
       "        vertical-align: top;\n",
       "    }\n",
       "\n",
       "    .dataframe thead th {\n",
       "        text-align: right;\n",
       "    }\n",
       "</style>\n",
       "<table border=\"1\" class=\"dataframe\">\n",
       "  <thead>\n",
       "    <tr style=\"text-align: right;\">\n",
       "      <th></th>\n",
       "      <th>subject_id</th>\n",
       "      <th>first_name</th>\n",
       "      <th>last_name</th>\n",
       "      <th>test_id</th>\n",
       "    </tr>\n",
       "  </thead>\n",
       "  <tbody>\n",
       "    <tr>\n",
       "      <th>0</th>\n",
       "      <td>1</td>\n",
       "      <td>Alex</td>\n",
       "      <td>Anderson</td>\n",
       "      <td>51</td>\n",
       "    </tr>\n",
       "    <tr>\n",
       "      <th>1</th>\n",
       "      <td>2</td>\n",
       "      <td>Amy</td>\n",
       "      <td>Ackerman</td>\n",
       "      <td>15</td>\n",
       "    </tr>\n",
       "    <tr>\n",
       "      <th>2</th>\n",
       "      <td>3</td>\n",
       "      <td>Allen</td>\n",
       "      <td>Ali</td>\n",
       "      <td>15</td>\n",
       "    </tr>\n",
       "    <tr>\n",
       "      <th>3</th>\n",
       "      <td>4</td>\n",
       "      <td>Alice</td>\n",
       "      <td>Aoni</td>\n",
       "      <td>61</td>\n",
       "    </tr>\n",
       "    <tr>\n",
       "      <th>4</th>\n",
       "      <td>4</td>\n",
       "      <td>Billy</td>\n",
       "      <td>Bonder</td>\n",
       "      <td>61</td>\n",
       "    </tr>\n",
       "    <tr>\n",
       "      <th>5</th>\n",
       "      <td>5</td>\n",
       "      <td>Ayoung</td>\n",
       "      <td>Atiches</td>\n",
       "      <td>16</td>\n",
       "    </tr>\n",
       "    <tr>\n",
       "      <th>6</th>\n",
       "      <td>5</td>\n",
       "      <td>Brian</td>\n",
       "      <td>Black</td>\n",
       "      <td>16</td>\n",
       "    </tr>\n",
       "    <tr>\n",
       "      <th>7</th>\n",
       "      <td>7</td>\n",
       "      <td>Bryce</td>\n",
       "      <td>Brice</td>\n",
       "      <td>14</td>\n",
       "    </tr>\n",
       "    <tr>\n",
       "      <th>8</th>\n",
       "      <td>8</td>\n",
       "      <td>Betty</td>\n",
       "      <td>Btisan</td>\n",
       "      <td>15</td>\n",
       "    </tr>\n",
       "  </tbody>\n",
       "</table>\n",
       "</div>"
      ],
      "text/plain": [
       "  subject_id first_name last_name  test_id\n",
       "0          1       Alex  Anderson       51\n",
       "1          2        Amy  Ackerman       15\n",
       "2          3      Allen       Ali       15\n",
       "3          4      Alice      Aoni       61\n",
       "4          4      Billy    Bonder       61\n",
       "5          5     Ayoung   Atiches       16\n",
       "6          5      Brian     Black       16\n",
       "7          7      Bryce     Brice       14\n",
       "8          8      Betty    Btisan       15"
      ]
     },
     "execution_count": 10,
     "metadata": {},
     "output_type": "execute_result"
    }
   ],
   "source": [
    "# Merge two dataframes with both the left and right dataframes using the subject_id key\n",
    "df_merge = pd.merge(df_new,df_n,left_on='subject_id',right_on='subject_id')\n",
    "df_merge"
   ]
  },
  {
   "cell_type": "code",
   "execution_count": 11,
   "metadata": {},
   "outputs": [
    {
     "name": "stdout",
     "output_type": "stream",
     "text": [
      "\n",
      "  subject_id  test_id\n",
      "0          1       51\n",
      "1          2       15\n",
      "2          3       15\n",
      "3          4       61\n",
      "4          5       16\n",
      "5          7       14\n",
      "6          8       15\n",
      "7          9        1\n",
      "8         10       61\n",
      "9         11       16\n"
     ]
    }
   ],
   "source": [
    "print(); print(df_n)"
   ]
  },
  {
   "cell_type": "code",
   "execution_count": 12,
   "metadata": {},
   "outputs": [
    {
     "data": {
      "text/html": [
       "<div>\n",
       "<style scoped>\n",
       "    .dataframe tbody tr th:only-of-type {\n",
       "        vertical-align: middle;\n",
       "    }\n",
       "\n",
       "    .dataframe tbody tr th {\n",
       "        vertical-align: top;\n",
       "    }\n",
       "\n",
       "    .dataframe thead th {\n",
       "        text-align: right;\n",
       "    }\n",
       "</style>\n",
       "<table border=\"1\" class=\"dataframe\">\n",
       "  <thead>\n",
       "    <tr style=\"text-align: right;\">\n",
       "      <th></th>\n",
       "      <th>subject_id</th>\n",
       "      <th>first_name</th>\n",
       "      <th>last_name</th>\n",
       "    </tr>\n",
       "  </thead>\n",
       "  <tbody>\n",
       "    <tr>\n",
       "      <th>0</th>\n",
       "      <td>1</td>\n",
       "      <td>Alex</td>\n",
       "      <td>Anderson</td>\n",
       "    </tr>\n",
       "    <tr>\n",
       "      <th>1</th>\n",
       "      <td>2</td>\n",
       "      <td>Amy</td>\n",
       "      <td>Ackerman</td>\n",
       "    </tr>\n",
       "    <tr>\n",
       "      <th>2</th>\n",
       "      <td>3</td>\n",
       "      <td>Allen</td>\n",
       "      <td>Ali</td>\n",
       "    </tr>\n",
       "    <tr>\n",
       "      <th>3</th>\n",
       "      <td>4</td>\n",
       "      <td>Alice</td>\n",
       "      <td>Aoni</td>\n",
       "    </tr>\n",
       "    <tr>\n",
       "      <th>4</th>\n",
       "      <td>5</td>\n",
       "      <td>Ayoung</td>\n",
       "      <td>Atiches</td>\n",
       "    </tr>\n",
       "  </tbody>\n",
       "</table>\n",
       "</div>"
      ],
      "text/plain": [
       "  subject_id first_name last_name\n",
       "0          1       Alex  Anderson\n",
       "1          2        Amy  Ackerman\n",
       "2          3      Allen       Ali\n",
       "3          4      Alice      Aoni\n",
       "4          5     Ayoung   Atiches"
      ]
     },
     "execution_count": 12,
     "metadata": {},
     "output_type": "execute_result"
    }
   ],
   "source": [
    "df_a"
   ]
  },
  {
   "cell_type": "code",
   "execution_count": 13,
   "metadata": {},
   "outputs": [
    {
     "data": {
      "text/html": [
       "<div>\n",
       "<style scoped>\n",
       "    .dataframe tbody tr th:only-of-type {\n",
       "        vertical-align: middle;\n",
       "    }\n",
       "\n",
       "    .dataframe tbody tr th {\n",
       "        vertical-align: top;\n",
       "    }\n",
       "\n",
       "    .dataframe thead th {\n",
       "        text-align: right;\n",
       "    }\n",
       "</style>\n",
       "<table border=\"1\" class=\"dataframe\">\n",
       "  <thead>\n",
       "    <tr style=\"text-align: right;\">\n",
       "      <th></th>\n",
       "      <th>subject_id</th>\n",
       "      <th>first_name</th>\n",
       "      <th>last_name</th>\n",
       "    </tr>\n",
       "  </thead>\n",
       "  <tbody>\n",
       "    <tr>\n",
       "      <th>0</th>\n",
       "      <td>4</td>\n",
       "      <td>Billy</td>\n",
       "      <td>Bonder</td>\n",
       "    </tr>\n",
       "    <tr>\n",
       "      <th>1</th>\n",
       "      <td>5</td>\n",
       "      <td>Brian</td>\n",
       "      <td>Black</td>\n",
       "    </tr>\n",
       "    <tr>\n",
       "      <th>2</th>\n",
       "      <td>6</td>\n",
       "      <td>Bran</td>\n",
       "      <td>Balwner</td>\n",
       "    </tr>\n",
       "    <tr>\n",
       "      <th>3</th>\n",
       "      <td>7</td>\n",
       "      <td>Bryce</td>\n",
       "      <td>Brice</td>\n",
       "    </tr>\n",
       "    <tr>\n",
       "      <th>4</th>\n",
       "      <td>8</td>\n",
       "      <td>Betty</td>\n",
       "      <td>Btisan</td>\n",
       "    </tr>\n",
       "  </tbody>\n",
       "</table>\n",
       "</div>"
      ],
      "text/plain": [
       "  subject_id first_name last_name\n",
       "0          4      Billy    Bonder\n",
       "1          5      Brian     Black\n",
       "2          6       Bran   Balwner\n",
       "3          7      Bryce     Brice\n",
       "4          8      Betty    Btisan"
      ]
     },
     "execution_count": 13,
     "metadata": {},
     "output_type": "execute_result"
    }
   ],
   "source": [
    "df_b"
   ]
  },
  {
   "cell_type": "code",
   "execution_count": 14,
   "metadata": {},
   "outputs": [
    {
     "data": {
      "text/html": [
       "<div>\n",
       "<style scoped>\n",
       "    .dataframe tbody tr th:only-of-type {\n",
       "        vertical-align: middle;\n",
       "    }\n",
       "\n",
       "    .dataframe tbody tr th {\n",
       "        vertical-align: top;\n",
       "    }\n",
       "\n",
       "    .dataframe thead th {\n",
       "        text-align: right;\n",
       "    }\n",
       "</style>\n",
       "<table border=\"1\" class=\"dataframe\">\n",
       "  <thead>\n",
       "    <tr style=\"text-align: right;\">\n",
       "      <th></th>\n",
       "      <th>subject_id</th>\n",
       "      <th>first_name_x</th>\n",
       "      <th>last_name_x</th>\n",
       "      <th>first_name_y</th>\n",
       "      <th>last_name_y</th>\n",
       "    </tr>\n",
       "  </thead>\n",
       "  <tbody>\n",
       "    <tr>\n",
       "      <th>0</th>\n",
       "      <td>1</td>\n",
       "      <td>Alex</td>\n",
       "      <td>Anderson</td>\n",
       "      <td>NaN</td>\n",
       "      <td>NaN</td>\n",
       "    </tr>\n",
       "    <tr>\n",
       "      <th>1</th>\n",
       "      <td>2</td>\n",
       "      <td>Amy</td>\n",
       "      <td>Ackerman</td>\n",
       "      <td>NaN</td>\n",
       "      <td>NaN</td>\n",
       "    </tr>\n",
       "    <tr>\n",
       "      <th>2</th>\n",
       "      <td>3</td>\n",
       "      <td>Allen</td>\n",
       "      <td>Ali</td>\n",
       "      <td>NaN</td>\n",
       "      <td>NaN</td>\n",
       "    </tr>\n",
       "    <tr>\n",
       "      <th>3</th>\n",
       "      <td>4</td>\n",
       "      <td>Alice</td>\n",
       "      <td>Aoni</td>\n",
       "      <td>Billy</td>\n",
       "      <td>Bonder</td>\n",
       "    </tr>\n",
       "    <tr>\n",
       "      <th>4</th>\n",
       "      <td>5</td>\n",
       "      <td>Ayoung</td>\n",
       "      <td>Atiches</td>\n",
       "      <td>Brian</td>\n",
       "      <td>Black</td>\n",
       "    </tr>\n",
       "    <tr>\n",
       "      <th>5</th>\n",
       "      <td>6</td>\n",
       "      <td>NaN</td>\n",
       "      <td>NaN</td>\n",
       "      <td>Bran</td>\n",
       "      <td>Balwner</td>\n",
       "    </tr>\n",
       "    <tr>\n",
       "      <th>6</th>\n",
       "      <td>7</td>\n",
       "      <td>NaN</td>\n",
       "      <td>NaN</td>\n",
       "      <td>Bryce</td>\n",
       "      <td>Brice</td>\n",
       "    </tr>\n",
       "    <tr>\n",
       "      <th>7</th>\n",
       "      <td>8</td>\n",
       "      <td>NaN</td>\n",
       "      <td>NaN</td>\n",
       "      <td>Betty</td>\n",
       "      <td>Btisan</td>\n",
       "    </tr>\n",
       "  </tbody>\n",
       "</table>\n",
       "</div>"
      ],
      "text/plain": [
       "  subject_id first_name_x last_name_x first_name_y last_name_y\n",
       "0          1         Alex    Anderson          NaN         NaN\n",
       "1          2          Amy    Ackerman          NaN         NaN\n",
       "2          3        Allen         Ali          NaN         NaN\n",
       "3          4        Alice        Aoni        Billy      Bonder\n",
       "4          5       Ayoung     Atiches        Brian       Black\n",
       "5          6          NaN         NaN         Bran     Balwner\n",
       "6          7          NaN         NaN        Bryce       Brice\n",
       "7          8          NaN         NaN        Betty      Btisan"
      ]
     },
     "execution_count": 14,
     "metadata": {},
     "output_type": "execute_result"
    }
   ],
   "source": [
    "# Merge with outer join\n",
    "df_outer = pd.merge(df_a,df_b,on = 'subject_id',how='outer')\n",
    "df_outer"
   ]
  },
  {
   "cell_type": "code",
   "execution_count": 15,
   "metadata": {},
   "outputs": [
    {
     "data": {
      "text/html": [
       "<div>\n",
       "<style scoped>\n",
       "    .dataframe tbody tr th:only-of-type {\n",
       "        vertical-align: middle;\n",
       "    }\n",
       "\n",
       "    .dataframe tbody tr th {\n",
       "        vertical-align: top;\n",
       "    }\n",
       "\n",
       "    .dataframe thead th {\n",
       "        text-align: right;\n",
       "    }\n",
       "</style>\n",
       "<table border=\"1\" class=\"dataframe\">\n",
       "  <thead>\n",
       "    <tr style=\"text-align: right;\">\n",
       "      <th></th>\n",
       "      <th>subject_id</th>\n",
       "      <th>first_name_x</th>\n",
       "      <th>last_name_x</th>\n",
       "      <th>first_name_y</th>\n",
       "      <th>last_name_y</th>\n",
       "    </tr>\n",
       "  </thead>\n",
       "  <tbody>\n",
       "    <tr>\n",
       "      <th>0</th>\n",
       "      <td>4</td>\n",
       "      <td>Alice</td>\n",
       "      <td>Aoni</td>\n",
       "      <td>Billy</td>\n",
       "      <td>Bonder</td>\n",
       "    </tr>\n",
       "    <tr>\n",
       "      <th>1</th>\n",
       "      <td>5</td>\n",
       "      <td>Ayoung</td>\n",
       "      <td>Atiches</td>\n",
       "      <td>Brian</td>\n",
       "      <td>Black</td>\n",
       "    </tr>\n",
       "  </tbody>\n",
       "</table>\n",
       "</div>"
      ],
      "text/plain": [
       "  subject_id first_name_x last_name_x first_name_y last_name_y\n",
       "0          4        Alice        Aoni        Billy      Bonder\n",
       "1          5       Ayoung     Atiches        Brian       Black"
      ]
     },
     "execution_count": 15,
     "metadata": {},
     "output_type": "execute_result"
    }
   ],
   "source": [
    "# Merge with inner join\n",
    "df_inner = pd.merge(df_a,df_b,on='subject_id',how='inner')\n",
    "df_inner"
   ]
  },
  {
   "cell_type": "code",
   "execution_count": 16,
   "metadata": {},
   "outputs": [
    {
     "data": {
      "text/html": [
       "<div>\n",
       "<style scoped>\n",
       "    .dataframe tbody tr th:only-of-type {\n",
       "        vertical-align: middle;\n",
       "    }\n",
       "\n",
       "    .dataframe tbody tr th {\n",
       "        vertical-align: top;\n",
       "    }\n",
       "\n",
       "    .dataframe thead th {\n",
       "        text-align: right;\n",
       "    }\n",
       "</style>\n",
       "<table border=\"1\" class=\"dataframe\">\n",
       "  <thead>\n",
       "    <tr style=\"text-align: right;\">\n",
       "      <th></th>\n",
       "      <th>subject_id</th>\n",
       "      <th>first_name_x</th>\n",
       "      <th>last_name_x</th>\n",
       "      <th>first_name_y</th>\n",
       "      <th>last_name_y</th>\n",
       "    </tr>\n",
       "  </thead>\n",
       "  <tbody>\n",
       "    <tr>\n",
       "      <th>0</th>\n",
       "      <td>4</td>\n",
       "      <td>Alice</td>\n",
       "      <td>Aoni</td>\n",
       "      <td>Billy</td>\n",
       "      <td>Bonder</td>\n",
       "    </tr>\n",
       "    <tr>\n",
       "      <th>1</th>\n",
       "      <td>5</td>\n",
       "      <td>Ayoung</td>\n",
       "      <td>Atiches</td>\n",
       "      <td>Brian</td>\n",
       "      <td>Black</td>\n",
       "    </tr>\n",
       "    <tr>\n",
       "      <th>2</th>\n",
       "      <td>6</td>\n",
       "      <td>NaN</td>\n",
       "      <td>NaN</td>\n",
       "      <td>Bran</td>\n",
       "      <td>Balwner</td>\n",
       "    </tr>\n",
       "    <tr>\n",
       "      <th>3</th>\n",
       "      <td>7</td>\n",
       "      <td>NaN</td>\n",
       "      <td>NaN</td>\n",
       "      <td>Bryce</td>\n",
       "      <td>Brice</td>\n",
       "    </tr>\n",
       "    <tr>\n",
       "      <th>4</th>\n",
       "      <td>8</td>\n",
       "      <td>NaN</td>\n",
       "      <td>NaN</td>\n",
       "      <td>Betty</td>\n",
       "      <td>Btisan</td>\n",
       "    </tr>\n",
       "  </tbody>\n",
       "</table>\n",
       "</div>"
      ],
      "text/plain": [
       "  subject_id first_name_x last_name_x first_name_y last_name_y\n",
       "0          4        Alice        Aoni        Billy      Bonder\n",
       "1          5       Ayoung     Atiches        Brian       Black\n",
       "2          6          NaN         NaN         Bran     Balwner\n",
       "3          7          NaN         NaN        Bryce       Brice\n",
       "4          8          NaN         NaN        Betty      Btisan"
      ]
     },
     "execution_count": 16,
     "metadata": {},
     "output_type": "execute_result"
    }
   ],
   "source": [
    "# Merge with left right\n",
    "df_right = pd.merge(df_a,df_b,on='subject_id',how='right')\n",
    "df_right"
   ]
  },
  {
   "cell_type": "code",
   "execution_count": 17,
   "metadata": {},
   "outputs": [
    {
     "data": {
      "text/html": [
       "<div>\n",
       "<style scoped>\n",
       "    .dataframe tbody tr th:only-of-type {\n",
       "        vertical-align: middle;\n",
       "    }\n",
       "\n",
       "    .dataframe tbody tr th {\n",
       "        vertical-align: top;\n",
       "    }\n",
       "\n",
       "    .dataframe thead th {\n",
       "        text-align: right;\n",
       "    }\n",
       "</style>\n",
       "<table border=\"1\" class=\"dataframe\">\n",
       "  <thead>\n",
       "    <tr style=\"text-align: right;\">\n",
       "      <th></th>\n",
       "      <th>subject_id</th>\n",
       "      <th>first_name_x</th>\n",
       "      <th>last_name_x</th>\n",
       "      <th>first_name_y</th>\n",
       "      <th>last_name_y</th>\n",
       "    </tr>\n",
       "  </thead>\n",
       "  <tbody>\n",
       "    <tr>\n",
       "      <th>0</th>\n",
       "      <td>1</td>\n",
       "      <td>Alex</td>\n",
       "      <td>Anderson</td>\n",
       "      <td>NaN</td>\n",
       "      <td>NaN</td>\n",
       "    </tr>\n",
       "    <tr>\n",
       "      <th>1</th>\n",
       "      <td>2</td>\n",
       "      <td>Amy</td>\n",
       "      <td>Ackerman</td>\n",
       "      <td>NaN</td>\n",
       "      <td>NaN</td>\n",
       "    </tr>\n",
       "    <tr>\n",
       "      <th>2</th>\n",
       "      <td>3</td>\n",
       "      <td>Allen</td>\n",
       "      <td>Ali</td>\n",
       "      <td>NaN</td>\n",
       "      <td>NaN</td>\n",
       "    </tr>\n",
       "    <tr>\n",
       "      <th>3</th>\n",
       "      <td>4</td>\n",
       "      <td>Alice</td>\n",
       "      <td>Aoni</td>\n",
       "      <td>Billy</td>\n",
       "      <td>Bonder</td>\n",
       "    </tr>\n",
       "    <tr>\n",
       "      <th>4</th>\n",
       "      <td>5</td>\n",
       "      <td>Ayoung</td>\n",
       "      <td>Atiches</td>\n",
       "      <td>Brian</td>\n",
       "      <td>Black</td>\n",
       "    </tr>\n",
       "  </tbody>\n",
       "</table>\n",
       "</div>"
      ],
      "text/plain": [
       "  subject_id first_name_x last_name_x first_name_y last_name_y\n",
       "0          1         Alex    Anderson          NaN         NaN\n",
       "1          2          Amy    Ackerman          NaN         NaN\n",
       "2          3        Allen         Ali          NaN         NaN\n",
       "3          4        Alice        Aoni        Billy      Bonder\n",
       "4          5       Ayoung     Atiches        Brian       Black"
      ]
     },
     "execution_count": 17,
     "metadata": {},
     "output_type": "execute_result"
    }
   ],
   "source": [
    "# Merge with left join\n",
    "df_left = pd.merge(df_a,df_b,on='subject_id',how='left')\n",
    "df_left"
   ]
  },
  {
   "cell_type": "code",
   "execution_count": 19,
   "metadata": {},
   "outputs": [
    {
     "data": {
      "text/html": [
       "<div>\n",
       "<style scoped>\n",
       "    .dataframe tbody tr th:only-of-type {\n",
       "        vertical-align: middle;\n",
       "    }\n",
       "\n",
       "    .dataframe tbody tr th {\n",
       "        vertical-align: top;\n",
       "    }\n",
       "\n",
       "    .dataframe thead th {\n",
       "        text-align: right;\n",
       "    }\n",
       "</style>\n",
       "<table border=\"1\" class=\"dataframe\">\n",
       "  <thead>\n",
       "    <tr style=\"text-align: right;\">\n",
       "      <th></th>\n",
       "      <th>subject_id</th>\n",
       "      <th>first_name_left</th>\n",
       "      <th>last_name_left</th>\n",
       "      <th>first_name_right</th>\n",
       "      <th>last_name_right</th>\n",
       "    </tr>\n",
       "  </thead>\n",
       "  <tbody>\n",
       "    <tr>\n",
       "      <th>0</th>\n",
       "      <td>1</td>\n",
       "      <td>Alex</td>\n",
       "      <td>Anderson</td>\n",
       "      <td>NaN</td>\n",
       "      <td>NaN</td>\n",
       "    </tr>\n",
       "    <tr>\n",
       "      <th>1</th>\n",
       "      <td>2</td>\n",
       "      <td>Amy</td>\n",
       "      <td>Ackerman</td>\n",
       "      <td>NaN</td>\n",
       "      <td>NaN</td>\n",
       "    </tr>\n",
       "    <tr>\n",
       "      <th>2</th>\n",
       "      <td>3</td>\n",
       "      <td>Allen</td>\n",
       "      <td>Ali</td>\n",
       "      <td>NaN</td>\n",
       "      <td>NaN</td>\n",
       "    </tr>\n",
       "    <tr>\n",
       "      <th>3</th>\n",
       "      <td>4</td>\n",
       "      <td>Alice</td>\n",
       "      <td>Aoni</td>\n",
       "      <td>Billy</td>\n",
       "      <td>Bonder</td>\n",
       "    </tr>\n",
       "    <tr>\n",
       "      <th>4</th>\n",
       "      <td>5</td>\n",
       "      <td>Ayoung</td>\n",
       "      <td>Atiches</td>\n",
       "      <td>Brian</td>\n",
       "      <td>Black</td>\n",
       "    </tr>\n",
       "  </tbody>\n",
       "</table>\n",
       "</div>"
      ],
      "text/plain": [
       "  subject_id first_name_left last_name_left first_name_right last_name_right\n",
       "0          1            Alex       Anderson              NaN             NaN\n",
       "1          2             Amy       Ackerman              NaN             NaN\n",
       "2          3           Allen            Ali              NaN             NaN\n",
       "3          4           Alice           Aoni            Billy          Bonder\n",
       "4          5          Ayoung        Atiches            Brian           Black"
      ]
     },
     "execution_count": 19,
     "metadata": {},
     "output_type": "execute_result"
    }
   ],
   "source": [
    " # Merge while adding a suffix to duplicate column names\n",
    "df_suffix = pd.merge(df_a,df_b,suffixes=('_left','_right'),on = 'subject_id',how='left')\n",
    "df_suffix"
   ]
  },
  {
   "cell_type": "markdown",
   "metadata": {},
   "source": [
    "# How to list unique values in a Pandas DataFrame?\n"
   ]
  },
  {
   "cell_type": "code",
   "execution_count": 21,
   "metadata": {},
   "outputs": [
    {
     "name": "stdout",
     "output_type": "stream",
     "text": [
      "\n",
      "             name  year  reports\n",
      "Cochice     Jason  2012        4\n",
      "Pima        Molly  2012       24\n",
      "Santa Cruz   Tina  2013       31\n",
      "Maricopa     Tina  2014        2\n",
      "Yuma          Amy  2014        3\n",
      "\n",
      "['Jason' 'Molly' 'Tina' 'Amy']\n"
     ]
    }
   ],
   "source": [
    "\n",
    "## How to list unique values in a Pandas DataFrame\n",
    "\n",
    "# load libraries\n",
    "import pandas as pd\n",
    "\n",
    "# Set ipython's max row display\n",
    "pd.set_option('display.max_row', 1000)\n",
    "\n",
    "# Set iPython's max column width to 50\n",
    "pd.set_option('display.max_columns', 50)\n",
    "\n",
    "# Create an example dataframe\n",
    "data = {'name': ['Jason', 'Molly', 'Tina', 'Tina', 'Amy'],\n",
    "        'year': [2012, 2012, 2013, 2014, 2014],\n",
    "        'reports': [4, 24, 31, 2, 3]}\n",
    "df = pd.DataFrame(data, index = ['Cochice', 'Pima', 'Santa Cruz',\n",
    "                                 'Maricopa', 'Yuma'])\n",
    "print(); print(df)\n",
    "\n",
    "# List unique values in the df['name'] column\n",
    "print(); print(df['name'].unique())"
   ]
  },
  {
   "cell_type": "markdown",
   "metadata": {},
   "source": [
    "# How to filter in a Pandas DataFrame?"
   ]
  },
  {
   "cell_type": "code",
   "execution_count": 23,
   "metadata": {},
   "outputs": [
    {
     "name": "stdout",
     "output_type": "stream",
     "text": [
      "\n",
      "             name  year  reports  coverage\n",
      "Cochice     Jason  2012        4        25\n",
      "Pima        Molly  2012       24        94\n",
      "Santa Cruz   Tina  2013       31        57\n",
      "Maricopa     Jake  2014        2        62\n",
      "Yuma          Amy  2014        3        70\n",
      "\n",
      "Cochice       Jason\n",
      "Pima          Molly\n",
      "Santa Cruz     Tina\n",
      "Maricopa       Jake\n",
      "Yuma            Amy\n",
      "Name: name, dtype: object\n"
     ]
    }
   ],
   "source": [
    "# load libraries\n",
    "import pandas as pd\n",
    "\n",
    "# Create Dataframe\n",
    "data = {'name': ['Jason', 'Molly', 'Tina', 'Jake', 'Amy'],\n",
    "        'year': [2012, 2012, 2013, 2014, 2014],\n",
    "        'reports': [4, 24, 31, 2, 3],\n",
    "        'coverage': [25, 94, 57, 62, 70]}\n",
    "\n",
    "df = pd.DataFrame(data, index = ['Cochice', 'Pima', 'Santa Cruz', 'Maricopa', 'Yuma'])\n",
    "print(); print(df)\n",
    "\n",
    "# View Column\n",
    "print(); print(df['name'])"
   ]
  },
  {
   "cell_type": "code",
   "execution_count": 25,
   "metadata": {},
   "outputs": [
    {
     "name": "stdout",
     "output_type": "stream",
     "text": [
      "\n",
      "             name  reports\n",
      "Cochice     Jason        4\n",
      "Pima        Molly       24\n",
      "Santa Cruz   Tina       31\n",
      "Maricopa     Jake        2\n",
      "Yuma          Amy        3\n"
     ]
    }
   ],
   "source": [
    "# View Two Columns\n",
    "print(); print(df[['name','reports']])"
   ]
  },
  {
   "cell_type": "code",
   "execution_count": 26,
   "metadata": {},
   "outputs": [
    {
     "name": "stdout",
     "output_type": "stream",
     "text": [
      "\n",
      "          name  year  reports  coverage\n",
      "Cochice  Jason  2012        4        25\n",
      "Pima     Molly  2012       24        94\n"
     ]
    }
   ],
   "source": [
    "# View First Two Rows\n",
    "print(); print(df[:2])"
   ]
  },
  {
   "cell_type": "code",
   "execution_count": 32,
   "metadata": {},
   "outputs": [
    {
     "name": "stdout",
     "output_type": "stream",
     "text": [
      "\n",
      "             name  year  reports  coverage\n",
      "Pima        Molly  2012       24        94\n",
      "Santa Cruz   Tina  2013       31        57\n",
      "Maricopa     Jake  2014        2        62\n",
      "Yuma          Amy  2014        3        70\n"
     ]
    }
   ],
   "source": [
    "# View Rows Where Coverage Is Greater Than 50\n",
    "print(); print(df[df['coverage']>50])"
   ]
  },
  {
   "cell_type": "code",
   "execution_count": 43,
   "metadata": {},
   "outputs": [
    {
     "name": "stdout",
     "output_type": "stream",
     "text": [
      "\n",
      "          name  year  reports  coverage\n",
      "Maricopa  Jake  2014        2        62\n",
      "Yuma       Amy  2014        3        70\n"
     ]
    }
   ],
   "source": [
    "# View Rows Where Coverage Is Greater Than 50 And Reports Less Than 4\n",
    "print();print(df[(df['coverage']>50) & (df['reports']<4)])"
   ]
  },
  {
   "cell_type": "markdown",
   "metadata": {},
   "source": [
    "# How to delete duplicates from a Pandas DataFrame?\n"
   ]
  },
  {
   "cell_type": "code",
   "execution_count": 46,
   "metadata": {},
   "outputs": [
    {
     "name": "stdout",
     "output_type": "stream",
     "text": [
      "\n",
      "  first_name last_name      age  preTestScore  postTestScore\n",
      "0      Jason    Miller       42             4             25\n",
      "1      Jason    Miller       42             4             25\n",
      "2      Jason    Miller  1111111             4             25\n",
      "3       Tina       Ali       36            31             57\n",
      "4       Jake    Milner       24             2             62\n",
      "5        Amy     Cooze       73             3             70\n",
      "\n",
      "  first_name last_name  age  preTestScore  postTestScore\n",
      "1      Jason    Miller   42             4             25\n"
     ]
    }
   ],
   "source": [
    "# Create dataframe with duplicates\n",
    "raw_data = {'first_name': ['Jason', 'Jason', 'Jason','Tina', 'Jake', 'Amy'],\n",
    "            'last_name': ['Miller', 'Miller', 'Miller','Ali', 'Milner', 'Cooze'],\n",
    "            'age': [42, 42, 1111111, 36, 24, 73],\n",
    "            'preTestScore': [4, 4, 4, 31, 2, 3],\n",
    "            'postTestScore': [25, 25, 25, 57, 62, 70]}\n",
    "\n",
    "df = pd.DataFrame(raw_data, columns = ['first_name', 'last_name', 'age',\n",
    "                                       'preTestScore', 'postTestScore'])\n",
    "print(); print(df)\n",
    "\n",
    "# Identify which observations are duplicates\n",
    "print(); print(df[df.duplicated()])"
   ]
  },
  {
   "cell_type": "code",
   "execution_count": 47,
   "metadata": {},
   "outputs": [
    {
     "name": "stdout",
     "output_type": "stream",
     "text": [
      "\n",
      "  first_name last_name      age  preTestScore  postTestScore\n",
      "0      Jason    Miller       42             4             25\n",
      "2      Jason    Miller  1111111             4             25\n",
      "3       Tina       Ali       36            31             57\n",
      "4       Jake    Milner       24             2             62\n",
      "5        Amy     Cooze       73             3             70\n"
     ]
    }
   ],
   "source": [
    "# Identify which observations are duplicates\n",
    "print(); print(df.drop_duplicates(keep='first'))"
   ]
  },
  {
   "cell_type": "code",
   "execution_count": 48,
   "metadata": {},
   "outputs": [
    {
     "name": "stdout",
     "output_type": "stream",
     "text": [
      "\n",
      "  first_name last_name      age  preTestScore  postTestScore\n",
      "1      Jason    Miller       42             4             25\n",
      "2      Jason    Miller  1111111             4             25\n",
      "3       Tina       Ali       36            31             57\n",
      "4       Jake    Milner       24             2             62\n",
      "5        Amy     Cooze       73             3             70\n"
     ]
    }
   ],
   "source": [
    "# Identify which observations are duplicates\n",
    "print(); print(df.drop_duplicates(keep='last'))"
   ]
  },
  {
   "cell_type": "code",
   "execution_count": null,
   "metadata": {},
   "outputs": [],
   "source": [
    "# Drop duplicates in the first name column, but take the last obs in the duplicated set"
   ]
  },
  {
   "cell_type": "code",
   "execution_count": 52,
   "metadata": {},
   "outputs": [
    {
     "name": "stdout",
     "output_type": "stream",
     "text": [
      "\n",
      "  first_name last_name      age  preTestScore  postTestScore\n",
      "0      Jason    Miller       42             4             25\n",
      "1      Jason    Miller       42             4             25\n",
      "2      Jason    Miller  1111111             4             25\n",
      "3       Tina       Ali       36            31             57\n",
      "4       Jake    Milner       24             2             62\n",
      "5        Amy     Cooze       73             3             70\n",
      "\n",
      "  first_name last_name      age  preTestScore  postTestScore\n",
      "2      Jason    Miller  1111111             4             25\n",
      "3       Tina       Ali       36            31             57\n",
      "4       Jake    Milner       24             2             62\n",
      "5        Amy     Cooze       73             3             70\n"
     ]
    }
   ],
   "source": [
    "print();print(df)\n",
    "print(); print(df.drop_duplicates(['first_name'],keep='last'))"
   ]
  },
  {
   "cell_type": "markdown",
   "metadata": {},
   "source": [
    "# How to select rows with multiple filters?"
   ]
  },
  {
   "cell_type": "code",
   "execution_count": 58,
   "metadata": {},
   "outputs": [
    {
     "name": "stdout",
     "output_type": "stream",
     "text": [
      "\n",
      "  name  score\n",
      "0    A      1\n",
      "1    B      2\n",
      "2    C      3\n",
      "3    D      4\n",
      "4    E      5\n",
      "\n",
      "  name  score\n",
      "1    B      2\n",
      "2    C      3\n",
      "3    D      4\n"
     ]
    }
   ],
   "source": [
    "# Create an example dataframe\n",
    "data = {'name': ['A', 'B', 'C', 'D', 'E'],\n",
    "        'score': [1,2,3,4,5]}\n",
    "\n",
    "df = pd.DataFrame(data)\n",
    "print(); print(df)\n",
    "\n",
    "# Select rows of the dataframe where df.score is greater than 1 and less and 5\n",
    "print(); print(df[(df['score']>1) & (df['score']<5)])"
   ]
  },
  {
   "cell_type": "markdown",
   "metadata": {},
   "source": [
    "# How to rank a Pandas DataFrame?"
   ]
  },
  {
   "cell_type": "code",
   "execution_count": 62,
   "metadata": {},
   "outputs": [
    {
     "name": "stdout",
     "output_type": "stream",
     "text": [
      "\n",
      "             name  year  reports  coverage\n",
      "Cochice     Jason  2012        4        25\n",
      "Pima        Molly  2012       24        94\n",
      "Santa Cruz   Tina  2013       31        57\n",
      "Maricopa     Jake  2014        2        62\n",
      "Yuma          Amy  2014        3        70\n",
      "\n",
      "             name  year  reports  coverage  new_coverage\n",
      "Cochice     Jason  2012        4        25           1.0\n",
      "Pima        Molly  2012       24        94           5.0\n",
      "Santa Cruz   Tina  2013       31        57           2.0\n",
      "Maricopa     Jake  2014        2        62           3.0\n",
      "Yuma          Amy  2014        3        70           4.0\n"
     ]
    }
   ],
   "source": [
    "# load libraries\n",
    "import pandas as pd\n",
    "\n",
    "# Create dataframe\n",
    "data = {'name': ['Jason', 'Molly', 'Tina', 'Jake', 'Amy'],\n",
    "        'year': [2012, 2012, 2013, 2014, 2014],\n",
    "        'reports': [4, 24, 31, 2, 3],\n",
    "        'coverage': [25, 94, 57, 62, 70]}\n",
    "\n",
    "df = pd.DataFrame(data, index = ['Cochice', 'Pima', 'Santa Cruz', 'Maricopa', 'Yuma'])\n",
    "print(); print(df)\n",
    "\n",
    "# Create a new column that is the rank of the value of coverage in ascending order\n",
    "df['new_coverage'] = df['coverage'].rank(ascending=True)\n",
    "\n",
    "print(); print(df)\n"
   ]
  },
  {
   "cell_type": "code",
   "execution_count": 66,
   "metadata": {},
   "outputs": [
    {
     "name": "stdout",
     "output_type": "stream",
     "text": [
      "\n",
      "             name  year  reports  coverage  new_coverage  new_covearge1  \\\n",
      "Cochice     Jason  2012        4        25           1.0            5.0   \n",
      "Pima        Molly  2012       24        94           5.0            1.0   \n",
      "Santa Cruz   Tina  2013       31        57           2.0            4.0   \n",
      "Maricopa     Jake  2014        2        62           3.0            3.0   \n",
      "Yuma          Amy  2014        3        70           4.0            2.0   \n",
      "\n",
      "            new_covearge  \n",
      "Cochice              5.0  \n",
      "Pima                 1.0  \n",
      "Santa Cruz           4.0  \n",
      "Maricopa             3.0  \n",
      "Yuma                 2.0  \n"
     ]
    }
   ],
   "source": [
    "# Create a new column that is the rank of the value of coverage in descending order\n",
    "df['new_covearge1'] = df['coverage'].rank(ascending = False)\n",
    "print(); print(df)"
   ]
  },
  {
   "cell_type": "markdown",
   "metadata": {},
   "source": [
    "# How to JOIN and MERGE Pandas DataFrame?"
   ]
  },
  {
   "cell_type": "code",
   "execution_count": 69,
   "metadata": {},
   "outputs": [
    {
     "name": "stdout",
     "output_type": "stream",
     "text": [
      "\n",
      "  subject_id first_name last_name\n",
      "0          1       Alex  Anderson\n",
      "1          2        Amy  Ackerman\n",
      "2          3      Allen       Ali\n",
      "3          4      Alice      Aoni\n",
      "4          5     Ayoung   Atiches\n",
      "\n",
      "  subject_id first_name last_name\n",
      "0          4      Billy    Bonder\n",
      "1          5      Brian     Black\n",
      "2          6       Bran   Balwner\n",
      "3          7      Bryce     Brice\n",
      "4          8      Betty    Btisan\n",
      "\n",
      "  subject_id  test_id\n",
      "0          1       51\n",
      "1          2       15\n",
      "2          3       15\n",
      "3          4       61\n",
      "4          5       16\n",
      "5          7       14\n",
      "6          8       15\n",
      "7          9        1\n",
      "8         10       61\n",
      "9         11       16\n",
      "\n",
      "  subject_id first_name last_name\n",
      "0          1       Alex  Anderson\n",
      "1          2        Amy  Ackerman\n",
      "2          3      Allen       Ali\n",
      "3          4      Alice      Aoni\n",
      "4          5     Ayoung   Atiches\n",
      "0          4      Billy    Bonder\n",
      "1          5      Brian     Black\n",
      "2          6       Bran   Balwner\n",
      "3          7      Bryce     Brice\n",
      "4          8      Betty    Btisan\n"
     ]
    }
   ],
   "source": [
    "# Create a dataframe\n",
    "raw_data = {'subject_id': ['1', '2', '3', '4', '5'],\n",
    "            'first_name': ['Alex', 'Amy', 'Allen', 'Alice', 'Ayoung'],\n",
    "            'last_name': ['Anderson', 'Ackerman', 'Ali', 'Aoni', 'Atiches']}\n",
    "df_a = pd.DataFrame(raw_data, columns = ['subject_id', 'first_name', 'last_name'])\n",
    "print(); print(df_a)\n",
    "\n",
    "# Create a second dataframe\n",
    "raw_data = {'subject_id': ['4', '5', '6', '7', '8'],\n",
    "            'first_name': ['Billy', 'Brian', 'Bran', 'Bryce', 'Betty'],\n",
    "            'last_name': ['Bonder', 'Black', 'Balwner', 'Brice', 'Btisan']}\n",
    "df_b = pd.DataFrame(raw_data, columns = ['subject_id', 'first_name', 'last_name'])\n",
    "print(); print(df_b)\n",
    "\n",
    "# Create a third dataframe\n",
    "raw_data = {'subject_id': ['1', '2', '3', '4', '5', '7', '8', '9', '10', '11'],\n",
    "            'test_id': [51, 15, 15, 61, 16, 14, 15, 1, 61, 16]}\n",
    "df_n = pd.DataFrame(raw_data, columns = ['subject_id','test_id'])\n",
    "print(); print(df_n)\n",
    "\n",
    "# Join the two dataframes along rows\n",
    "df_join = pd.concat([df_a,df_b])\n",
    "print(); print(df_join)"
   ]
  },
  {
   "cell_type": "code",
   "execution_count": 75,
   "metadata": {},
   "outputs": [
    {
     "name": "stdout",
     "output_type": "stream",
     "text": [
      "  subject_id first_name last_name subject_id first_name last_name\n",
      "0          1       Alex  Anderson          4      Billy    Bonder\n",
      "1          2        Amy  Ackerman          5      Brian     Black\n",
      "2          3      Allen       Ali          6       Bran   Balwner\n",
      "3          4      Alice      Aoni          7      Bryce     Brice\n",
      "4          5     Ayoung   Atiches          8      Betty    Btisan\n"
     ]
    }
   ],
   "source": [
    "# Join the two dataframes along columns\n",
    "df_col = pd.concat([df_a,df_b],axis =1)\n",
    "print(df_col)"
   ]
  },
  {
   "cell_type": "code",
   "execution_count": 79,
   "metadata": {},
   "outputs": [
    {
     "name": "stdout",
     "output_type": "stream",
     "text": [
      "  subject_id first_name_x last_name_x first_name_y last_name_y\n",
      "0          4        Alice        Aoni        Billy      Bonder\n",
      "1          5       Ayoung     Atiches        Brian       Black\n"
     ]
    }
   ],
   "source": [
    "# Merge two dataframes along the subject_id value\n",
    "df_merge = pd.merge(df_a,df_b,on='subject_id')\n",
    "print(df_merge)"
   ]
  },
  {
   "cell_type": "code",
   "execution_count": 85,
   "metadata": {},
   "outputs": [
    {
     "name": "stdout",
     "output_type": "stream",
     "text": [
      "  subject_id first_name last_name  test_id\n",
      "0          1       Alex  Anderson       51\n",
      "1          2        Amy  Ackerman       15\n",
      "2          3      Allen       Ali       15\n",
      "3          4      Alice      Aoni       61\n",
      "4          4      Billy    Bonder       61\n",
      "5          5     Ayoung   Atiches       16\n",
      "6          5      Brian     Black       16\n",
      "7          7      Bryce     Brice       14\n",
      "8          8      Betty    Btisan       15\n"
     ]
    }
   ],
   "source": [
    "# Merge two dataframes with both the left and right dataframes using the subject_id key\n",
    "pd_left_right = pd.merge(df_join,df_n,left_on='subject_id',right_on='subject_id')\n",
    "print(pd_left_right)"
   ]
  },
  {
   "cell_type": "code",
   "execution_count": 91,
   "metadata": {},
   "outputs": [
    {
     "name": "stdout",
     "output_type": "stream",
     "text": [
      "\n",
      "  subject_id first_name_x last_name_x first_name_y last_name_y\n",
      "0          1         Alex    Anderson          NaN         NaN\n",
      "1          2          Amy    Ackerman          NaN         NaN\n",
      "2          3        Allen         Ali          NaN         NaN\n",
      "3          4        Alice        Aoni        Billy      Bonder\n",
      "4          5       Ayoung     Atiches        Brian       Black\n",
      "5          6          NaN         NaN         Bran     Balwner\n",
      "6          7          NaN         NaN        Bryce       Brice\n",
      "7          8          NaN         NaN        Betty      Btisan\n"
     ]
    }
   ],
   "source": [
    "# Merge with outer join\n",
    "df_outer = pd.merge(df_a,df_b,on ='subject_id',how='outer')\n",
    "print();print(df_outer)\n",
    "\n"
   ]
  },
  {
   "cell_type": "code",
   "execution_count": 92,
   "metadata": {},
   "outputs": [
    {
     "name": "stdout",
     "output_type": "stream",
     "text": [
      "\n",
      "  subject_id first_name_x last_name_x first_name_y last_name_y\n",
      "0          4        Alice        Aoni        Billy      Bonder\n",
      "1          5       Ayoung     Atiches        Brian       Black\n"
     ]
    }
   ],
   "source": [
    "# Merge with inner join\n",
    "df_inner= pd.merge(df_a,df_b,on ='subject_id',how='inner')\n",
    "print();print(df_inner)"
   ]
  },
  {
   "cell_type": "markdown",
   "metadata": {},
   "source": [
    "# How to JOIN and MERGE Pandas DataFrame?"
   ]
  },
  {
   "cell_type": "code",
   "execution_count": 94,
   "metadata": {},
   "outputs": [],
   "source": [
    "#load Libraries\n",
    "from datetime import datetime\n",
    "from dateutil.parser import parse\n",
    "import pandas as pd\n",
    "\n",
    "# Create a string variable with a datetime\n",
    "date_start = '2012-03-03'"
   ]
  },
  {
   "cell_type": "code",
   "execution_count": 95,
   "metadata": {},
   "outputs": [
    {
     "name": "stdout",
     "output_type": "stream",
     "text": [
      "\n",
      "2012-03-03 00:00:00\n"
     ]
    }
   ],
   "source": [
    "# Convert the string to datetime format\n",
    "print()\n",
    "print(datetime.strptime(date_start, '%Y-%m-%d'))"
   ]
  },
  {
   "cell_type": "code",
   "execution_count": 96,
   "metadata": {},
   "outputs": [
    {
     "name": "stdout",
     "output_type": "stream",
     "text": [
      "\n",
      "2012-03-03 00:00:00\n"
     ]
    }
   ],
   "source": [
    "# Create a list of strings as dates\n",
    "dates = ['7/2/2017', '8/6/2016', '11/13/2015', '5/26/2014', '5/2/2013']\n",
    "# Use parse() to attempt to auto-convert common string formats\n",
    "print()\n",
    "print(parse(date_start))"
   ]
  },
  {
   "cell_type": "code",
   "execution_count": 98,
   "metadata": {},
   "outputs": [
    {
     "name": "stdout",
     "output_type": "stream",
     "text": [
      "\n",
      "[datetime.datetime(2017, 7, 2, 0, 0), datetime.datetime(2016, 8, 6, 0, 0), datetime.datetime(2015, 11, 13, 0, 0), datetime.datetime(2014, 5, 26, 0, 0), datetime.datetime(2013, 5, 2, 0, 0)]\n",
      "\n",
      "2012-03-03 00:00:00\n"
     ]
    }
   ],
   "source": [
    "print()\n",
    "print([parse(x) for x in dates])\n",
    "# Use parse, but designate that the day is first\n",
    "print()\n",
    "print(parse(date_start, dayfirst=True))"
   ]
  },
  {
   "cell_type": "code",
   "execution_count": null,
   "metadata": {},
   "outputs": [],
   "source": [
    "# Create a dataframe\n",
    "data = {'date': ['2014-05-01 18:47:05.069722', '2014-05-01 18:47:05.119994',\n",
    "                 '2014-05-02 18:47:05.178768', '2014-05-02 18:47:05.230071',\n",
    "                 '2014-05-02 18:47:05.230071', '2014-05-02 18:47:05.280592',\n",
    "                 '2014-05-03 18:47:05.332662', '2014-05-03 18:47:05.385109',\n",
    "                 '2014-05-04 18:47:05.436523', '2014-05-04 18:47:05.486877'],\n",
    "        'value': [1, 1, 1, 1, 1, 1, 1, 1, 1, 1]}\n",
    "df = pd.DataFrame(data, columns = ['date', 'value'])\n",
    "print(df.dtypes)\n",
    "# Convert df['date'] from string to datetime\n",
    "print()\n",
    "print(pd.to_datetime(df['date']))\n",
    "print(pd.to_datetime(df['date']).dtypes)"
   ]
  },
  {
   "cell_type": "code",
   "execution_count": null,
   "metadata": {},
   "outputs": [],
   "source": []
  },
  {
   "cell_type": "code",
   "execution_count": null,
   "metadata": {},
   "outputs": [],
   "source": []
  },
  {
   "cell_type": "code",
   "execution_count": null,
   "metadata": {},
   "outputs": [],
   "source": []
  },
  {
   "cell_type": "code",
   "execution_count": null,
   "metadata": {},
   "outputs": [],
   "source": []
  },
  {
   "cell_type": "code",
   "execution_count": null,
   "metadata": {},
   "outputs": [],
   "source": []
  },
  {
   "cell_type": "code",
   "execution_count": null,
   "metadata": {},
   "outputs": [],
   "source": []
  },
  {
   "cell_type": "code",
   "execution_count": null,
   "metadata": {},
   "outputs": [],
   "source": []
  },
  {
   "cell_type": "code",
   "execution_count": null,
   "metadata": {},
   "outputs": [],
   "source": []
  },
  {
   "cell_type": "code",
   "execution_count": null,
   "metadata": {},
   "outputs": [],
   "source": []
  },
  {
   "cell_type": "code",
   "execution_count": null,
   "metadata": {},
   "outputs": [],
   "source": []
  },
  {
   "cell_type": "code",
   "execution_count": null,
   "metadata": {},
   "outputs": [],
   "source": []
  },
  {
   "cell_type": "code",
   "execution_count": null,
   "metadata": {},
   "outputs": [],
   "source": []
  },
  {
   "cell_type": "code",
   "execution_count": null,
   "metadata": {},
   "outputs": [],
   "source": []
  },
  {
   "cell_type": "code",
   "execution_count": null,
   "metadata": {},
   "outputs": [],
   "source": []
  },
  {
   "cell_type": "code",
   "execution_count": null,
   "metadata": {},
   "outputs": [],
   "source": []
  },
  {
   "cell_type": "code",
   "execution_count": null,
   "metadata": {},
   "outputs": [],
   "source": []
  },
  {
   "cell_type": "code",
   "execution_count": null,
   "metadata": {},
   "outputs": [],
   "source": []
  },
  {
   "cell_type": "code",
   "execution_count": null,
   "metadata": {},
   "outputs": [],
   "source": []
  }
 ],
 "metadata": {
  "kernelspec": {
   "display_name": "Python 3",
   "language": "python",
   "name": "python3"
  },
  "language_info": {
   "codemirror_mode": {
    "name": "ipython",
    "version": 3
   },
   "file_extension": ".py",
   "mimetype": "text/x-python",
   "name": "python",
   "nbconvert_exporter": "python",
   "pygments_lexer": "ipython3",
   "version": "3.7.3"
  }
 },
 "nbformat": 4,
 "nbformat_minor": 2
}
